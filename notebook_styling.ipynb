{
 "cells": [
  {
   "cell_type": "code",
   "execution_count": 6,
   "metadata": {
    "collapsed": false
   },
   "outputs": [],
   "source": [
    "from IPython.core.display import HTML\n",
    "import numpy as np\n",
    "import matplotlib.pyplot as plt\n",
    "%matplotlib inline"
   ]
  },
  {
   "cell_type": "code",
   "execution_count": 26,
   "metadata": {
    "collapsed": false
   },
   "outputs": [
    {
     "data": {
      "text/html": [
       "<link href='https://fonts.googleapis.com/css?family=Droid+Sans|Shadows+Into+Light' rel='stylesheet' type='text/css'>\n",
       "<style>\n",
       "body {\n",
       "    font-family: 'Droid Sans'\n",
       "}\n",
       "\n",
       "h1, h2, h3, h4, h5, h6 {\n",
       "    font-family: 'Shadows Into Light', sans-serif;\n",
       "}\n",
       "code {\n",
       "    background-color: #cfcfcf !important;\n",
       "    padding: 4px !important;\n",
       "}\n",
       "</style>"
      ],
      "text/plain": [
       "<IPython.core.display.HTML object>"
      ]
     },
     "metadata": {},
     "output_type": "display_data"
    }
   ],
   "source": [
    "%%HTML\n",
    "<link href='https://fonts.googleapis.com/css?family=Droid+Sans|Shadows+Into+Light' rel='stylesheet' type='text/css'>\n",
    "<style>\n",
    "body {\n",
    "    font-family: 'Droid Sans'\n",
    "}\n",
    "\n",
    "h1, h2, h3, h4, h5, h6 {\n",
    "    font-family: 'Shadows Into Light', sans-serif;\n",
    "}\n",
    "code {\n",
    "    background-color: #cfcfcf !important;\n",
    "    padding: 4px !important;\n",
    "}\n",
    "</style>"
   ]
  },
  {
   "cell_type": "markdown",
   "metadata": {},
   "source": [
    "## some header\n",
    "And this is just some paragraph text. Here is some `inline code` as well."
   ]
  }
 ],
 "metadata": {
  "kernelspec": {
   "display_name": "Python 3",
   "language": "python",
   "name": "python3"
  },
  "language_info": {
   "codemirror_mode": {
    "name": "ipython",
    "version": 3
   },
   "file_extension": ".py",
   "mimetype": "text/x-python",
   "name": "python",
   "nbconvert_exporter": "python",
   "pygments_lexer": "ipython3",
   "version": "3.5.0"
  }
 },
 "nbformat": 4,
 "nbformat_minor": 0
}
