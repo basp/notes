{
 "cells": [
  {
   "cell_type": "markdown",
   "metadata": {},
   "source": [
    "# numbers\n",
    "Even though numbers might seem like a pretty simple topic there is a lot of interesting things to be said about them. In this section we'll cover the whole scala of numbers from simple *natural numbers* to the *imaginary unit* and *complex numbers* and a bit of history on how we got here.\n",
    "\n",
    "For a somewhat less math heavy and more lighthearted overview I can really recommend [The Story of One](https://www.youtube.com/watch?v=dFqvrd47g8I) which includes a lot more history but a lot less math notation."
   ]
  },
  {
   "cell_type": "markdown",
   "metadata": {},
   "source": [
    "# calculus\n",
    "Consider a function distance $f(t)$ then *speed* equals $\\frac{\\delta{f}}{\\delta{t}}$. Likewise, considering a function height $y(x)$ then *slope* equals $\\frac{\\delta{y}}{\\delta{x}}$. From this it's already apparent that *calculus* about thinking about how things change."
   ]
  },
  {
   "cell_type": "markdown",
   "metadata": {},
   "source": [
    "### $y = x^n$\n",
    "### $y = \\sin x$\n",
    "### $y = e^x$"
   ]
  },
  {
   "cell_type": "code",
   "execution_count": null,
   "metadata": {
    "collapsed": true
   },
   "outputs": [],
   "source": []
  }
 ],
 "metadata": {
  "kernelspec": {
   "display_name": "Python 3",
   "language": "python",
   "name": "python3"
  },
  "language_info": {
   "codemirror_mode": {
    "name": "ipython",
    "version": 3
   },
   "file_extension": ".py",
   "mimetype": "text/x-python",
   "name": "python",
   "nbconvert_exporter": "python",
   "pygments_lexer": "ipython3",
   "version": "3.5.0"
  }
 },
 "nbformat": 4,
 "nbformat_minor": 0
}
