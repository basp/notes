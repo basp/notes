{
 "cells": [
  {
   "cell_type": "markdown",
   "metadata": {},
   "source": [
    "Between the text will be code such as the `import` statements below. Please note that the code is just there to support some graphs and numbers. You don't have to understand it to read the text so it can safely be ignored. \n",
    "\n",
    "If there's something important happening in code then this will be made clear by the text surrounding it."
   ]
  },
  {
   "cell_type": "code",
   "execution_count": 3,
   "metadata": {
    "collapsed": false
   },
   "outputs": [],
   "source": [
    "import numpy as np\n",
    "import matplotlib.pyplot as plt\n",
    "import plotutils as pu\n",
    "%matplotlib inline"
   ]
  },
  {
   "cell_type": "markdown",
   "metadata": {},
   "source": [
    "# complex numbers (are not complex)\n",
    "As humans needed to solve more and more complex equations we had to move away from *whole numbers* through *rational numbers* arriving at a class of numbers that are nowadays mostly called **complex numbers**. \n",
    "\n",
    "These numbers are also sometimes known as **imaginary numbers** which is actually a bit of misnomer because these numbers are just as real as any other number and they are essential to a solving a huge number of problems in science. In fact, the complex moniker is kinda stupid as well. They are not complex at all. Just a bit unconventional.\n",
    "\n",
    "Before we explain complex numbers in more detail it might be useful and take a step back and see why we need them in the first place. We'll sidetrack a bit with *square roots* and *square numbers* get some concepts in place before we get to the really funky stuff."
   ]
  },
  {
   "cell_type": "markdown",
   "metadata": {},
   "source": [
    "# the square root\n",
    "One of the more nasty operations in math is taking the square root of a number. In fact, even before complex numbers people ran into problems with this operation due to the fact [how it's defined](https://en.wikipedia.org/wiki/Square_root):\n",
    "\n",
    "> In mathematics, a square root of a number $a$ is a number $y$ such that $y^2 = a$, in other words, a number $y$ whose square (the result of multiplying the number by itself, or $y \\times y$) is $a$.\n",
    "\n",
    "As usual, the definition is correct but hard to understand if you're not used to the lingo and format of these things. As an aside, naming one of the variables $a$ doesn't increase the readability of the definition.\n",
    "\n",
    "In math, the square root of a number $x$ is written as $\\sqrt{x}$ and the easiest way to understand it is with some examples:\n",
    "\n",
    "$$\n",
    "\\begin{align}\n",
    "1 \\times 1 = 1 & \\implies \\sqrt{1} = 1 \\\\\n",
    "2 \\times 2 = 4 & \\implies \\sqrt{4} = 2 \\\\\n",
    "3 \\times 3 = 9 & \\implies \\sqrt{9} = 3 \\\\\n",
    "\\cdots \\\\\n",
    "x \\times x = x^2 & \\implies \\sqrt{x^2} = x\n",
    "\\end{align}\n",
    "$$\n",
    "\n",
    "In the table above we can see that if we take some number $x$ and multiply it with itself we get $x \\times x$ which in math is usually written as $x^2$ ($x$ squared). We can also see that if we proceed to take the square root of some number $x^2$ we get back the original number $x$. \n",
    "\n",
    "In other words, it is the *inverse* of *squaring* a number (multiplying a number with itself). However just by this very definition we get into strange territory very quickly. As long as we are dealing with squares such as $x \\times x$ the world is wonderful and we can be sure that any square root we want to find is an *integer* (whole number) just by the way how the operation is defined.\n",
    "\n",
    "### squared?\n",
    "Especially in the old times but even today when doing exploratory stuff it's not uncommon to look at things from a *geometric* perspective. Which basically means we try to to think about shapes. When we are dealing with what seemingly is only one dimension it's often useful to look at it from a two-dimensional point of view. Also we can try to understand things by *mapping* them to less dimensions. "
   ]
  },
  {
   "cell_type": "markdown",
   "metadata": {},
   "source": [
    "# square numbers\n",
    "So what is a *square number* anyway? If we look at it from a geometric perspective we can say that a square is in fact a rectangle where both sides are equal. Now this is a bit of a recursive definition because we might as well say a rectangle is a square scaled along some kind of axis but lets stick with our basic explanation for now. We know that we can compute the *area* of a rectangle by multiplying its width $x$ and height $y$. So $area = x \\times y$. \n",
    "\n",
    "Now if we consider a number as being some kind of measurement for an abstract *area* we can say that a square number is a number such that we can write $area = x \\times y = x \\times x = y \\times y\\implies x = y$ where $area$ is just some number. Which in geometric terms means that some kind of area can either be defined by $x \\times y$ (the width times height) or by $x \\times x$ (width times width) and that this *implies* that $x$ is equal to $y$. Or in other words, both sides are equal and we're dealing with a square.\n",
    "\n",
    "This square might be anything, it's not important, after all, with this definition the number $4$ is a square. It's a square of $2 \\times 2$ and what it actually represents even in this abstract form is too much to answer in this essay. It can be anything, the important fact is the property that it can be written as a *factor* of two numbers that are the same. \n",
    "\n",
    "### factor?\n",
    "A factor is basically when we take a thing and break it up in other using multiplication. So for example if we take $4$ we can factor this into $2 \\times 2$ or $1 \\times 4$ and we can say that $1$, $2$ and $4$ *are factors* of $4$. More generaly we can say that if a number $x$ can be represented with $n$ and $m$ so that $n \\times m = x$ then this number $x$ has factors $n$ and $m$.\n",
    "\n",
    "So how would we plot square roots? One way is just to plot a graph but we can do something a bit more *geometric*. We can plot square roots (and any root as it turns out) as a rectangle as well."
   ]
  },
  {
   "cell_type": "code",
   "execution_count": 4,
   "metadata": {
    "collapsed": false,
    "scrolled": true
   },
   "outputs": [
    {
     "data": {
      "image/png": "[encoded data removed]",
      "text/plain": [
       "<matplotlib.figure.Figure at 0xf424809d68>"
      ]
     },
     "metadata": {},
     "output_type": "display_data"
    }
   ],
   "source": [
    "def plot_rect(ax, p, fmt='b'):\n",
    "    x, y = p\n",
    "    ax.plot([0, x], [y, y], fmt) # horizontal line\n",
    "    ax.plot([x, x], [0, y], fmt) # vertical line\n",
    "\n",
    "with plt.xkcd():\n",
    "    fig, axes = plt.subplots(1, 2, figsize=(8, 4))\n",
    "    for ax in axes: pu.setup_axes(ax, xlim=(-1, 5), ylim=(-1, 5), tickdirection='out')\n",
    "    for p in [(1, 1), (2, 2), (3, 3)]: plot_rect(axes[0], p)\n",
    "    plot_rect(axes[0], (2+2/3, 2+2/3), 'r--')\n",
    "    for p in [(1, 1), (2, 2)]: plot_rect(axes[1], p)\n",
    "    plot_rect(axes[1], (3, 4), 'r--')"
   ]
  },
  {
   "cell_type": "markdown",
   "metadata": {},
   "source": [
    "We can clearly see all the *easy* roots of $x = 1, 2, 3, \\ldots$ but how do our other points compare? In the first case we are between $2$ and $3$ and our width equals our height so $x = y$ and this is still managable but in the second case, how do we find a cube that is the size of a $3 \\times 4$ rectangle?"
   ]
  },
  {
   "cell_type": "markdown",
   "metadata": {},
   "source": [
    "# taking square roots\n",
    "So now that we have some concepts out of the we way we can look at the square root operation from a slightly different perspective and ask another question:\n",
    "\n",
    "> Assuming that number $x$ represents an area, how big does my square needs to be to be so its area equals $x$.\n",
    "\n",
    "This is actually not that easy to answer (without invoking roots) and as such taking square roots is a bit of a funky operation. One thing is that it is somewhat hard for to do for humans. Another thing is that there are actually some people who might argue some square root numbers don't even exist because there is no way to write them down without involving the square root itself. We're not even considering *cube roots* and/or higher here but we should be able to see that finding some kind of number that can be multiplied with itself to make up *any* kind number is somewhat tricky.\n",
    "\n",
    "### perspective: not squares\n",
    "After all this talk of squares we could also look at it from a non-square perspective. Let's say we measure a rectangle of $3 \\times 4$. It's area would be $3 \\times 4 = 12$. Now we walk over to someone and request that we get a square that represents this area. So we request $\\sqrt{12}$. It would not be unreasonable to be unable to comply because there isn't much more reasonable ways to write $\\sqrt{12}$ in a different way.\n",
    "\n",
    "Now of course there are exceptions but for the average human finding the square root of some number is not something they can just do. There are various methods in order to get us close but that's the point, we can never ever really get to some actual number with these things. Take for example $\\sqrt{2}$ which we'll look at in more detail later. We simply cannot simplify this anymore without losing precision. We cannot write it as a rational number like $\\frac{2}{3}$ either. It's just a number that if we would try to write it down as a decimal we would just have to decide to stop somewhere because it has an infinite amount of decimals."
   ]
  },
  {
   "cell_type": "markdown",
   "metadata": {},
   "source": [
    "### calculating square roots manually\n",
    "There's lots of ways to calculate square roots manually and I'm not even sure if the way I'm about to describe is in any way an \"official\" or even good way but it does make the operation easy to understand if we keep considering a number as some kind of area.\n",
    "\n",
    "Let's get back to our square of $3 \\times 4$ and see if we can figure this out."
   ]
  },
  {
   "cell_type": "code",
   "execution_count": 102,
   "metadata": {
    "collapsed": false,
    "scrolled": true
   },
   "outputs": [
    {
     "data": {
      "image/png": "[encoded data removed]",
      "text/plain": [
       "<matplotlib.figure.Figure at 0xf41df60d68>"
      ]
     },
     "metadata": {},
     "output_type": "display_data"
    }
   ],
   "source": [
    "with plt.xkcd():\n",
    "    fig, axes = plt.subplots(1, 2, figsize=(8, 4))\n",
    "    for ax in axes: pu.setup_axes(ax, xlim=(-1, 5), ylim=(-1, 5), tickdirection='out')\n",
    "    plot_rect(axes[0], (3, 4), 'b')\n",
    "    axes[0].plot([0, 3], [3, 3], 'b--')\n",
    "    axes[0].yaxis.set_ticks([1, 2, 3, 4])\n",
    "    axes[0].xaxis.set_ticks([1, 2, 3])\n",
    "    axes[0].annotate('THE NUMBER 12', (0.5, 4.5))\n",
    "    plot_rect(axes[1], (3, 3), 'b')\n",
    "    plot_rect(axes[1], (3.461, 3.461), 'b--')\n",
    "    axes[1].plot([3, 3], [3, 4.2], 'b--')\n",
    "    axes[1].plot([3, 4.2], [3, 3], 'b--')\n",
    "    axes[1].yaxis.set_ticks([1, 2, 3, 3.461])\n",
    "    axes[1].xaxis.set_ticks([1, 2, 3, 3.461])\n",
    "    axes[1].xaxis.set_ticklabels(['', '', '', 'x0'])\n",
    "    axes[1].yaxis.set_ticklabels(['', '', '', 'y0'])\n",
    "    axes[1].annotate('THE SQUARE ROOT OF 12', (0.5, 4.5))"
   ]
  },
  {
   "cell_type": "markdown",
   "metadata": {},
   "source": [
    "Remember, when we ask for a square root we are basically looking for a square that has an area equal to the number we give. Except this time we started with a non-square number. The area of our triangle is $3 \\times 4 = 12$. This is the number that is represented on the left, on the right is a square representing the answer we are looking for: $\\sqrt{12}$.\n",
    "\n",
    "### calculating the biggest possible square\n",
    "We easily see that the biggest square we can make is $3 \\times 3$ but is there a way to calculate this instead? If we have a number 12. What *is* the biggest actual square we can make where the side length is an integer number. Well we *know* that $\\sqrt{9} = 3$ so that's the square we are looking for. The next integer square is $4 \\times 4$ and that's too big. The number we are looking for is $3$ but how can we figure this out. \n",
    "\n",
    "Our rectangle is $3 \\times 4$ and the square we are looking for is $3 \\times 3$ or $3^2$. It seems that given a rectangle, the number we are looking for is the short side. But if we only know an area things are a bit harder, suppose we are only given the number $12$ and we know it's the area of a rectangle but not it's dimensions. The next question we could ponder is, does it even matter for the final outcome?"
   ]
  },
  {
   "cell_type": "markdown",
   "metadata": {},
   "source": [
    "# sandbox\n",
    "Everything below is just for playing around and should be deleted or cleaned-up for final publishing."
   ]
  },
  {
   "cell_type": "markdown",
   "metadata": {},
   "source": [
    "### sanity check on calculating $\\sqrt{12}$"
   ]
  },
  {
   "cell_type": "code",
   "execution_count": 8,
   "metadata": {
    "collapsed": false
   },
   "outputs": [
    {
     "data": {
      "text/plain": [
       "[<matplotlib.lines.Line2D at 0xf41dcd3f60>]"
      ]
     },
     "execution_count": 8,
     "metadata": {},
     "output_type": "execute_result"
    },
    {
     "data": {
      "image/png": "[encoded data removed]",
      "text/plain": [
       "<matplotlib.figure.Figure at 0xf41dc90f98>"
      ]
     },
     "metadata": {},
     "output_type": "display_data"
    }
   ],
   "source": [
    "f = lambda x: x**2 + 6*x - 3\n",
    "x = np.linspace(-1, 1, 100)\n",
    "plt.plot(x, f(x))"
   ]
  },
  {
   "cell_type": "code",
   "execution_count": 106,
   "metadata": {
    "collapsed": false
   },
   "outputs": [
    {
     "name": "stdout",
     "output_type": "stream",
     "text": [
      "-0.0\n",
      "3.4641\n",
      "3.4641\n"
     ]
    }
   ],
   "source": [
    "x = 0.46410 # this is our manually calculated value of dx/spread\n",
    "print(round((x**2) + (x*6) - 3, 2))\n",
    "print(3 + x)\n",
    "print(round(np.sqrt(12), 4))"
   ]
  },
  {
   "cell_type": "code",
   "execution_count": null,
   "metadata": {
    "collapsed": true
   },
   "outputs": [],
   "source": []
  }
 ],
 "metadata": {
  "kernelspec": {
   "display_name": "Python 3",
   "language": "python",
   "name": "python3"
  },
  "language_info": {
   "codemirror_mode": {
    "name": "ipython",
    "version": 3
   },
   "file_extension": ".py",
   "mimetype": "text/x-python",
   "name": "python",
   "nbconvert_exporter": "python",
   "pygments_lexer": "ipython3",
   "version": "3.5.1"
  }
 },
 "nbformat": 4,
 "nbformat_minor": 0
}
