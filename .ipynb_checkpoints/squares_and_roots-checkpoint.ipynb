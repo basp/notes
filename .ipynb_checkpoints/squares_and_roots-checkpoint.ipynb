{
 "cells": [
  {
   "cell_type": "code",
   "execution_count": 2,
   "metadata": {
    "collapsed": true
   },
   "outputs": [],
   "source": [
    "import numpy as np\n",
    "import matplotlib.pyplot as plt\n",
    "from sympy import S, solve\n",
    "import plotutils as pu\n",
    "%matplotlib inline"
   ]
  },
  {
   "cell_type": "markdown",
   "metadata": {},
   "source": [
    "# numbers on a plane\n",
    "Numbers can be a lot more interesting than just a value if you're just willing to shift your perspective a bit. "
   ]
  },
  {
   "cell_type": "markdown",
   "metadata": {},
   "source": [
    "# integers\n",
    "When we are dealing with integers we are dealing with all the whole numbers, zero and all the negative whole numbers. In math this set of numbers is often denoted with the symbol $\\mathbb{Z}$. This is a *countable infinite* set and even though the numbers are a bit basic we can try to get some more insight into the structure of numbers.\n",
    "\n",
    "# squares\n",
    "If we take a number and multiply it with itself we get a *square number*. These are called square because we can easily plot them as squares in a plot."
   ]
  },
  {
   "cell_type": "code",
   "execution_count": 17,
   "metadata": {
    "collapsed": false
   },
   "outputs": [
    {
     "data": {
      "image/png": "[encoded data removed]",
      "text/plain": [
       "<matplotlib.figure.Figure at 0x6c01ea0588>"
      ]
     },
     "metadata": {},
     "output_type": "display_data"
    }
   ],
   "source": [
    "def plot_rect(ax, p, fmt='b'):\n",
    "    x, y = p\n",
    "    ax.plot([0, x], [y, y], fmt) # horizontal line\n",
    "    ax.plot([x, x], [0, y], fmt) # vertical line\n",
    "    \n",
    "with plt.xkcd():\n",
    "    fig, axes = plt.subplots(1, figsize=(4, 4))\n",
    "    pu.setup_axes(axes, xlim=(-1, 4), ylim=(-1, 4))\n",
    "    for x in [1,2,3]: plot_rect(axes, (x, x))"
   ]
  },
  {
   "cell_type": "markdown",
   "metadata": {},
   "source": [
    "However, what happens we have a non-square number such as $5$?. We can't easily plot this as two equal lenghts, we'll have to turn it into a rectangle of $1 \\times 5$ or $5 \\times 1$."
   ]
  },
  {
   "cell_type": "code",
   "execution_count": 20,
   "metadata": {
    "collapsed": false
   },
   "outputs": [
    {
     "data": {
      "image/png": "[encoded data removed]",
      "text/plain": [
       "<matplotlib.figure.Figure at 0x6c01f6c4a8>"
      ]
     },
     "metadata": {},
     "output_type": "display_data"
    }
   ],
   "source": [
    "with plt.xkcd():\n",
    "    fig, axes = plt.subplots(1, figsize=(4, 4))\n",
    "    pu.setup_axes(axes, xlim=(-1, 6), ylim=(-1, 6))\n",
    "    for x, y in [(1, 5), (5, 1)]:\n",
    "        plot_rect(axes, (x, y))"
   ]
  },
  {
   "cell_type": "markdown",
   "metadata": {},
   "source": [
    "The first thing we notice is that we can take one thing and project it as two things. The fact that this happens is perfectly natural because we decided to take a single value and project it in two-dimensions in a way that suits us. Nothing really weird about it but still it's worth to think about it for a moment. Apparently it's perfectly valid to have something even though the way we got there doesn't matter. We could either take the rectangle standing up or the one lying down.\n",
    "Another interesting question to ask is whether we can get on the other sides of the axes. So far we have been happily plotting in the positive quadrant where $0 \\le x$ and $0 \\le y$ but what about the other three? Are they even reachable using just integer numbers?\n",
    "\n",
    "We could make up some factor like $-1 \\times -5$ and that would put us in the lower left. That would be equal to the same rectangles projected in the top right. And negative numbers would be either in the top left or bottom right. Although trivial this is interesting because now we find that if we project a single dimension into two dimensions we sometimes get 1 possibility, sometimes 2 and usually 4.\n",
    "\n",
    "If we project zero we just get zero. However if we project $1$ we get either $1 \\times 1$ or $-1 \\times -1$. If we project $5$ we get $5 \\times 1$, $1 \\times 5$, $-5 \\times -1$ and $-1 \\times -5$."
   ]
  },
  {
   "cell_type": "code",
   "execution_count": null,
   "metadata": {
    "collapsed": true
   },
   "outputs": [],
   "source": []
  }
 ],
 "metadata": {
  "kernelspec": {
   "display_name": "Python 3",
   "language": "python",
   "name": "python3"
  },
  "language_info": {
   "codemirror_mode": {
    "name": "ipython",
    "version": 3
   },
   "file_extension": ".py",
   "mimetype": "text/x-python",
   "name": "python",
   "nbconvert_exporter": "python",
   "pygments_lexer": "ipython3",
   "version": "3.5.0"
  }
 },
 "nbformat": 4,
 "nbformat_minor": 0
}
