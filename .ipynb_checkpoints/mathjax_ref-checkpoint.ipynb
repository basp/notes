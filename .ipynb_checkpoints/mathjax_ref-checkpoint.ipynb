{
 "cells": [
  {
   "cell_type": "markdown",
   "metadata": {},
   "source": [
    "### matrices\n",
    "$\n",
    "\\begin{matrix}\n",
    "A_11 & A_12 & \\cdots & A_{1m} \\\\\n",
    "A_21 & A_22 & \\cdots & A_{2m} \\\\\n",
    "\\vdots & \\vdots & \\ddots & \\vdots \\\\\n",
    "A_{n1} & A_{n2} & \\cdots & A_{nm}\n",
    "\\end{matrix}\n",
    "$\n",
    "\n",
    "The above undecorated matrix is generated with: \n",
    "\n",
    "```\n",
    "\\begin{matrix}\n",
    "A_11 && A_12 & \\cdots & A_{1m} \\\\\n",
    "A_21 && A_22 & \\cdots & A_{2m} \\\\\n",
    "\\vdots & \\vdots & \\ddots & \\vdots \\\\\n",
    "A_{n1} & A_{n2} & \\cdots & A_{nm}\n",
    "\\end{matrix}\n",
    "```\n",
    "\n",
    "We can add brackets either by using `\\left` or `\\right` or by replacing `matrix` with:\n",
    "\n",
    "`pmatrix` $\\begin{pmatrix}1 & 2 \\\\ 3 & 4\\end{pmatrix}$\n",
    "\n",
    "`bmatrix` $\\begin{bmatrix}1 & 2 \\\\ 3 & 4\\end{bmatrix}$\n",
    "\n",
    "`Bmatrix` $\\begin{Bmatrix}1 & 2 \\\\ 3 & 4\\end{Bmatrix}$\n",
    "\n",
    "`vmatrix` $\\begin{vmatrix}1 & 2 \\\\ 3 & 4\\end{vmatrix}$\n",
    "\n",
    "`Vmatrix` $\\begin{Vmatrix}1 & 2 \\\\ 3 & 4\\end{Vmatrix}$."
   ]
  },
  {
   "cell_type": "code",
   "execution_count": null,
   "metadata": {
    "collapsed": true
   },
   "outputs": [],
   "source": []
  }
 ],
 "metadata": {
  "kernelspec": {
   "display_name": "Python 3",
   "language": "python",
   "name": "python3"
  },
  "language_info": {
   "codemirror_mode": {
    "name": "ipython",
    "version": 3
   },
   "file_extension": ".py",
   "mimetype": "text/x-python",
   "name": "python",
   "nbconvert_exporter": "python",
   "pygments_lexer": "ipython3",
   "version": "3.5.1"
  }
 },
 "nbformat": 4,
 "nbformat_minor": 0
}
