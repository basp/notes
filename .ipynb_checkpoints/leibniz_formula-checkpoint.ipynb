{
 "cells": [
  {
   "cell_type": "code",
   "execution_count": 1,
   "metadata": {
    "collapsed": false
   },
   "outputs": [],
   "source": [
    "import numpy as np\n",
    "import matplotlib.pyplot as plt\n",
    "import plotutils as pu\n",
    "from sympy.mpmath import nsum, inf, mp\n",
    "from sympy import *\n",
    "%matplotlib inline"
   ]
  },
  {
   "cell_type": "markdown",
   "metadata": {},
   "source": [
    "The **Leibniz formula** states that:\n",
    "\n",
    "$$\n",
    "1 - \\frac{1}{3} + \\frac{1}{5} - \\frac{1}{7} + \\frac{1}{9} - \\ldots = \\frac{\\pi}{4}\n",
    "$$\n",
    "\n",
    "So in other words:\n",
    "\n",
    "$$\n",
    "\\sum^{\\infty}_{n = 0}\\frac{(-1)^n}{2n + 1} = \\frac{4}{\\pi}\n",
    "$$\n",
    "\n",
    "Let's see if we can understand the sum formula first. What we'll do is just take the top part of the fraction $(-1)^n$ and the bottom part $2n + 1$ and plot them seperately for some values of $n$:"
   ]
  },
  {
   "cell_type": "code",
   "execution_count": 2,
   "metadata": {
    "collapsed": false
   },
   "outputs": [
    {
     "data": {
      "image/png": "[encoded data removed]",
      "text/plain": [
       "<matplotlib.figure.Figure at 0xcc1ecae7b8>"
      ]
     },
     "metadata": {},
     "output_type": "display_data"
    }
   ],
   "source": [
    "with plt.xkcd():\n",
    "    x = np.arange(0, 10, 1)\n",
    "    fig, axes = plt.subplots(1, 2, figsize=(10, 4))\n",
    "    for ax in axes: pu.setup_axes(ax)\n",
    "    axes[0].plot(x, (-1)**x, 'bo', zorder=10)\n",
    "    axes[0].set_xlim(0, 9)\n",
    "    axes[0].set_ylim(-5, 5)\n",
    "    axes[1].plot(x, (2*x) + 1)\n",
    "    axes[1].set_xlim(0, 9)\n",
    "    axes[1].set_ylim(0, 10)"
   ]
  },
  {
   "cell_type": "markdown",
   "metadata": {},
   "source": [
    "So as $n$ gets bigger and bigger we have two things. One flips between $1$ and $-1$ and the other is just a linear value $y = 2n + 1$ that just keeps on getting bigger and bigger. Now the equation above tells us that if we take an near infinite sum of these values we will get closer and closer to the value of $\\frac{4}{\\pi}$ so let's see if that's true.\n",
    "\n",
    "Let's start by plotting something first. Maybe it will give some insight. We'll plot the easiest thing and that is the thing that get's summed for each value of $n$."
   ]
  },
  {
   "cell_type": "code",
   "execution_count": 3,
   "metadata": {
    "collapsed": false
   },
   "outputs": [
    {
     "data": {
      "image/png": "[encoded data removed]",
      "text/plain": [
       "<matplotlib.figure.Figure at 0xcc1bd3ed68>"
      ]
     },
     "metadata": {},
     "output_type": "display_data"
    }
   ],
   "source": [
    "n = np.arange(0, 10, 1)\n",
    "f = lambda x: ((-1)**x) / (2*x + 1)\n",
    "with plt.xkcd():\n",
    "    fig, axes = plt.subplots(1, figsize=(4, 4))\n",
    "    pu.setup_axes(axes, xlim=(-1, 9), ylim=(-1, 1.2))\n",
    "    plt.plot(n, f(n), zorder=10)\n",
    "    axes.set_aspect(3.0)"
   ]
  },
  {
   "cell_type": "markdown",
   "metadata": {},
   "source": [
    "Now if we sum up all the terms of that line above for $x = 0, 1, 2, 3, \\ldots, n$ we'll get closer and closer to $\\pi$. Using `mpmath` we can calculate $\\pi$ with pretty good detail using the `mp.dps` setting to control the precision."
   ]
  },
  {
   "cell_type": "code",
   "execution_count": 13,
   "metadata": {
    "collapsed": false
   },
   "outputs": [
    {
     "data": {
      "text/plain": [
       "mpf('3.1415926535897932384626433832795028841971693993751068')"
      ]
     },
     "execution_count": 13,
     "metadata": {},
     "output_type": "execute_result"
    }
   ],
   "source": [
    "leibniz = lambda n: ((-1)**n) / (2 * n + 1)\n",
    "mp.dps = 50\n",
    "nsum(leibniz, [0, inf]) * 4"
   ]
  },
  {
   "cell_type": "markdown",
   "metadata": {},
   "source": [
    "Of course we can compute it symbolically as well."
   ]
  },
  {
   "cell_type": "code",
   "execution_count": 23,
   "metadata": {
    "collapsed": false
   },
   "outputs": [],
   "source": [
    "leibniz = S('((-1)^n)/(2*n+1)')\n",
    "n = S('n')\n",
    "r = sum([leibniz.subs(n, i) for i in range(100)])"
   ]
  },
  {
   "cell_type": "code",
   "execution_count": null,
   "metadata": {
    "collapsed": true
   },
   "outputs": [],
   "source": []
  }
 ],
 "metadata": {
  "kernelspec": {
   "display_name": "Python 3",
   "language": "python",
   "name": "python3"
  },
  "language_info": {
   "codemirror_mode": {
    "name": "ipython",
    "version": 3
   },
   "file_extension": ".py",
   "mimetype": "text/x-python",
   "name": "python",
   "nbconvert_exporter": "python",
   "pygments_lexer": "ipython3",
   "version": "3.5.1"
  }
 },
 "nbformat": 4,
 "nbformat_minor": 0
}
