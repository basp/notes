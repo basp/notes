{
 "cells": [
  {
   "cell_type": "code",
   "execution_count": 1,
   "metadata": {
    "collapsed": true
   },
   "outputs": [],
   "source": [
    "import numpy as np\n",
    "import matplotlib.pyplot as plt\n",
    "%matplotlib inline"
   ]
  },
  {
   "cell_type": "markdown",
   "metadata": {},
   "source": [
    "# complex numbers\n",
    "From [wikipedia](https://en.wikipedia.org/wiki/Complex_number) we get:\n",
    "\n",
    "> A complex number is a number that can be expressed in the form $a + bi$, where $a$ and $b$ are real numbers and $i$ is the *imaginary unit*, that satisfies the equation $i^2 = −1$.\n",
    "\n",
    "And of course this is true but not very useful if you're just starting out. This [excellent playlist](https://www.youtube.com/playlist?list=PLiaHhY2iBX9g6KIvZ_703G3KJXapKkNaF) gives an awesome introduction to the subject. And if you're interested in numbers in general [The Story of One](https://www.youtube.com/watch?v=09l2nR3knYk) is fun too.\n",
    "\n",
    "We can show the problem with this innocent looking equation: $y = x^2 + 1$. If we want to find the root where $y = 0$ we end up with $x^2 = -1 \\implies x = \\sqrt{-1}$. There wasn't any number that satisfied $n^2 \\lt 0$ so what ended up happening was a new number being *invented*. Eventually it got known as the imaginary number $i$ and this number is defined as $i = \\sqrt{-1}$.\n",
    "\n",
    "Basically it turns out that numbers have more than one dimension and this in turn leads us to the complex plane. As it turns out we can plot all our familiar numbers along the $x$ axis and their imaginary components along the $y$ axis in order to somewhat visualize how they work."
   ]
  },
  {
   "cell_type": "code",
   "execution_count": 117,
   "metadata": {
    "collapsed": false,
    "scrolled": true
   },
   "outputs": [
    {
     "data": {
      "text/plain": [
       "<matplotlib.text.Annotation at 0xd9640bc160>"
      ]
     },
     "execution_count": 117,
     "metadata": {},
     "output_type": "execute_result"
    },
    {
     "data": {
      "image/png": "[encoded data removed]",
      "text/plain": [
       "<matplotlib.figure.Figure at 0xd963ea6518>"
      ]
     },
     "metadata": {},
     "output_type": "display_data"
    }
   ],
   "source": [
    "fig, ax = plt.subplots(1)\n",
    "\n",
    "ax.tick_params('both', length=10, width=1, direction='inout')\n",
    "\n",
    "for s in ['top', 'right']: \n",
    "    ax.spines[s].set_visible(False)\n",
    "\n",
    "for s in ['left', 'bottom']: \n",
    "    ax.spines[s].set_position(('data', 0))\n",
    "\n",
    "for a, s in [(ax.xaxis, 'bottom'), (ax.yaxis, 'left')]:\n",
    "    a.set_ticks_position(s)\n",
    "\n",
    "ax.xaxis.set_ticklabels([])\n",
    "ax.yaxis.set_ticklabels([])\n",
    "\n",
    "ax.xaxis.set_ticks([-4, -3, -2, -1, 1, 2, 3, 4])\n",
    "ax.yaxis.set_ticks([-4, -3, -2, -1, 1, 2, 3, 4])\n",
    "\n",
    "ax.set_xlim(-5, 5)\n",
    "ax.set_ylim(-5, 5)\n",
    "\n",
    "arrowprops = {\n",
    "    'head_length': 0.3, \n",
    "    'head_width': 0.24, \n",
    "    'length_includes_head': True, \n",
    "    'overhang': 0.3\n",
    "}\n",
    "\n",
    "ax.arrow(0, 0, 4, 3, fc='b', ec='b', **arrowprops, label='foo')\n",
    "ax.arrow(0, 0, 0, 1, fc='#dd1111', ec='#dd1111', zorder=3, **arrowprops)\n",
    "ax.arrow(0, 0, -3, 4, fc='#11aa77', ec='#11aa77', **arrowprops)\n",
    "ax.arrow(0, 0, -4, -3, fc='#11cc99', ec='#11cc99', **arrowprops)\n",
    "ax.arrow(0, 0, 3, -4, fc='#11eeaa', ec='#11eeaa', **arrowprops)\n",
    "\n",
    "ax.annotate('$(4 + 3i)i^0$', (4.25, 3))\n",
    "ax.annotate('$i$', (0.3, 1))\n",
    "ax.annotate('$(4 + 3i)i^1$', (-2.5, 4))\n",
    "ax.annotate('$(4 + 3i)i^2$', (-4.5, -3.75))\n",
    "ax.annotate('$(4 + 3i)i^3$', (3.25, -4))"
   ]
  },
  {
   "cell_type": "code",
   "execution_count": 114,
   "metadata": {
    "collapsed": false
   },
   "outputs": [
    {
     "data": {
      "text/plain": [
       "[(4+3j), (-3+4j), (-4-3j), (3-4j)]"
      ]
     },
     "execution_count": 114,
     "metadata": {},
     "output_type": "execute_result"
    }
   ],
   "source": [
    "[np.complex(4, 3) * np.complex(0, 1)**x for x in range(4)]"
   ]
  },
  {
   "cell_type": "code",
   "execution_count": null,
   "metadata": {
    "collapsed": true
   },
   "outputs": [],
   "source": []
  }
 ],
 "metadata": {
  "kernelspec": {
   "display_name": "Python 3",
   "language": "python",
   "name": "python3"
  },
  "language_info": {
   "codemirror_mode": {
    "name": "ipython",
    "version": 3
   },
   "file_extension": ".py",
   "mimetype": "text/x-python",
   "name": "python",
   "nbconvert_exporter": "python",
   "pygments_lexer": "ipython3",
   "version": "3.5.1"
  }
 },
 "nbformat": 4,
 "nbformat_minor": 0
}
