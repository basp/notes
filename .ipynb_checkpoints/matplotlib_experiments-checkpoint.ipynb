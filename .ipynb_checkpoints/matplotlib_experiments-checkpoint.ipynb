{
 "cells": [
  {
   "cell_type": "code",
   "execution_count": 2,
   "metadata": {
    "collapsed": true
   },
   "outputs": [],
   "source": [
    "import math\n",
    "import numpy as np\n",
    "import matplotlib.pyplot as plt\n",
    "%matplotlib inline"
   ]
  },
  {
   "cell_type": "markdown",
   "metadata": {},
   "source": [
    "### drawing vectors"
   ]
  },
  {
   "cell_type": "code",
   "execution_count": 132,
   "metadata": {
    "collapsed": false
   },
   "outputs": [
    {
     "data": {
      "image/png": "[encoded data removed]",
      "text/plain": [
       "<matplotlib.figure.Figure at 0x92cc3e34a8>"
      ]
     },
     "metadata": {},
     "output_type": "display_data"
    }
   ],
   "source": [
    "ax = plt.subplot(121)\n",
    "ax.set_aspect(1.0)\n",
    "ax.tick_params('both', length=10, width=1, direction='inout')\n",
    "\n",
    "ax.spines['top'].set_visible(False)\n",
    "ax.spines['right'].set_visible(False)\n",
    "\n",
    "ax.spines['bottom'].set_position(('data', 0))\n",
    "ax.spines['left'].set_position(('data', 0))\n",
    "\n",
    "ax.xaxis.set_ticks_position('bottom')\n",
    "ax.yaxis.set_ticks_position('left')\n",
    "\n",
    "ax.xaxis.set_ticklabels([-1, '', '', '', 3])\n",
    "ax.yaxis.set_ticklabels(['', '', 2, '', ''])\n",
    "\n",
    "ax.xaxis.set_ticks([-1, 0, 1, 2, 3])\n",
    "ax.yaxis.set_ticks([0, 1, 2, 3])\n",
    "\n",
    "ax.set_xlim(-2, 4)\n",
    "ax.set_ylim(-1, 4)\n",
    "\n",
    "plt.arrow(0, 0, 3, 2, head_length=0.25, head_width=0.15, ec='k', fc='k', length_includes_head=True, overhang=0.25)\n",
    "plt.arrow(0, 0, -1, 2, head_length=0.25, head_width=0.15, ec='k', fc='k', length_includes_head=True, overhang=0.25)\n",
    "plt.arrow(0, 0, 2, 4, head_length=0.30, head_width=0.15, ec='b', fc='b', length_includes_head=True, overhang=0.25)\n",
    "\n",
    "plt.plot([-1, 2], [2, 4], 'k--')\n",
    "plt.plot([2, 3], [4, 2], 'k--')\n",
    "\n",
    "plt.annotate(\"$v$\", (3.125, 2))\n",
    "plt.annotate(\"$w$\", (-1, 2), (-1.25, 2))\n",
    "plt.annotate(\"$v + w$\", (2, 4), (1.25, 2))\n",
    "\n",
    "ax = plt.subplot(122)\n",
    "ax.set_aspect(1.0)\n",
    "ax.tick_params('both', length=10, width=1, direction='inout')\n",
    "\n",
    "ax.spines['top'].set_visible(False)\n",
    "ax.spines['right'].set_visible(False)\n",
    "\n",
    "ax.spines['bottom'].set_position(('data', 0))\n",
    "ax.spines['left'].set_position(('data', 0))\n",
    "\n",
    "ax.xaxis.set_ticks_position('bottom')\n",
    "ax.yaxis.set_ticks_position('left')\n",
    "\n",
    "ax.xaxis.set_ticklabels(['', '', 1, '', 3])\n",
    "ax.yaxis.set_ticklabels([-2, '', '', 2])\n",
    "\n",
    "ax.xaxis.set_ticks([-1, 0, 1, 2, 3])\n",
    "ax.yaxis.set_ticks([-2, -1, 1, 2])\n",
    "\n",
    "ax.set_xlim(-2, 4)\n",
    "ax.set_ylim(-2, 3)\n",
    "\n",
    "plt.arrow(0, 0, 3, 2, head_length=0.25, head_width=0.15, ec='k', fc='k', length_includes_head=True, overhang=0.25)\n",
    "plt.arrow(0, 0, -1, 2, head_length=0.25, head_width=0.15, ec='k', fc='k', length_includes_head=True, overhang=0.25)\n",
    "plt.arrow(0, 0, 1, -2, head_length=0.25, head_width=0.15, ec='k', fc='k', length_includes_head=True, overhang=0.25)\n",
    "plt.arrow(0, 0, 4, 0, width=0.025, head_length=0.30, head_width=0.15, ec='b', fc='b', length_includes_head=True, overhang=0.25)\n",
    "\n",
    "plt.plot([3, 4], [2, 0], 'k--')\n",
    "plt.plot([1, 4], [-2, 0], 'k--')\n",
    "\n",
    "plt.annotate(\"$v$\", (3.125, 2))\n",
    "plt.annotate(\"$w$\", (-1, 2), (-1.25, 2))\n",
    "plt.annotate(\"$-w$\", (0.5, -2))\n",
    "plt.annotate(\"$v - w$\", (1.5, 0.25))\n",
    "\n",
    "plt.gcf().set_figwidth(10)"
   ]
  },
  {
   "cell_type": "code",
   "execution_count": null,
   "metadata": {
    "collapsed": true
   },
   "outputs": [],
   "source": []
  }
 ],
 "metadata": {
  "kernelspec": {
   "display_name": "Python 3",
   "language": "python",
   "name": "python3"
  },
  "language_info": {
   "codemirror_mode": {
    "name": "ipython",
    "version": 3
   },
   "file_extension": ".py",
   "mimetype": "text/x-python",
   "name": "python",
   "nbconvert_exporter": "python",
   "pygments_lexer": "ipython3",
   "version": "3.5.0"
  }
 },
 "nbformat": 4,
 "nbformat_minor": 0
}
