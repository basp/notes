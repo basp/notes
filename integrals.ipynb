{
 "cells": [
  {
   "cell_type": "markdown",
   "metadata": {},
   "source": [
    "Let's say we have a sequence of $y$ values, *heights* of the graph. For example $0, 1, 4, 9, 16, \\ldots$. And let's calculate the differences which we call $s$. We have $(1 - 0), (4 - 1), (9 - 4), (16 - 9), \\ldots = 1, 3, 5, 7, \\ldots$. This step is basically differentiation. Now we could ask the question what if we have $s$ how could we go back to $y$? Well, $(0 + 1), (1 + 3), (1 + 3 + 5), (1 + 3 + 5 + 7), \\ldots = 1, 4, 9, 16, \\ldots$ so that gets us a pretty long way. This step is known as integration."
   ]
  },
  {
   "cell_type": "code",
   "execution_count": null,
   "metadata": {
    "collapsed": true
   },
   "outputs": [],
   "source": []
  }
 ],
 "metadata": {
  "kernelspec": {
   "display_name": "Python 3",
   "language": "python",
   "name": "python3"
  },
  "language_info": {
   "codemirror_mode": {
    "name": "ipython",
    "version": 3
   },
   "file_extension": ".py",
   "mimetype": "text/x-python",
   "name": "python",
   "nbconvert_exporter": "python",
   "pygments_lexer": "ipython3",
   "version": "3.5.0"
  }
 },
 "nbformat": 4,
 "nbformat_minor": 0
}
