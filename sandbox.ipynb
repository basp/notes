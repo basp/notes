{
 "cells": [
  {
   "cell_type": "code",
   "execution_count": 2,
   "metadata": {
    "collapsed": true
   },
   "outputs": [],
   "source": [
    "import math\n",
    "import numpy as np\n",
    "import matplotlib.pyplot as plt\n",
    "%matplotlib inline"
   ]
  },
  {
   "cell_type": "markdown",
   "metadata": {},
   "source": [
    "### Combat\n",
    "In the COE4 manual we find a pretty nice description on how semi-large scale battles are resolved.\n",
    "\n",
    "1. Remove cloud effects from the battlefield.\n",
    "2. Move all units\n",
    "3. Move fast units\n",
    "4. Check for fear effects\n",
    "5. Determine attacks and set initiative\n",
    "6. Magic wands\n",
    "7. Perform attacks in initiative order\n",
    "8. Apply persistent effects\n",
    "9. Apply battlefield effects\n",
    "10. Check if battle is over\n",
    "\n",
    "There's still some open questions:\n",
    "\n",
    "* How are units placed on the battlefield?\n",
    "* How is movement determined?\n",
    "* Do we limit the size of armies?\n",
    "* If not, how do we deal with oversize armies?\n",
    "\n",
    "#### Placing units\n",
    "Battlefields are rectangular and we need to place units on both sides of the field. This is not that hard but things get more complicated when we want to involve defensive structures. \n",
    "\n",
    "We start with the restriction that only units from the middle or back ranks can take up a position on a defensive structure. Also, we assume that the available positions depend on the type of battle field. It seems then that we only need a a rectangular array of tiles with each tile specifying what kind of ranks may be placed there. However, in the back of our minds we consider the possibility that we might want to override some of these assumptions in special scenarios.\n",
    "\n",
    "#### Moving units\n",
    "For unit movement we can use a reasonably simple algorithm:\n",
    "\n",
    "1. Find the nearest enemy unit\n",
    "2. Move a step in that direction\n",
    "\n",
    "We can expect that we need some kind of pathfinding if we want to involve battlefield structures and/or obstacles. Different units might use different pathfinding strategies. \n",
    "\n",
    "If we want to support amphibic creatures we need to encode the water tiels in the battlefield map information. Or we might want to restrict movement on general abilities."
   ]
  },
  {
   "cell_type": "code",
   "execution_count": null,
   "metadata": {
    "collapsed": true
   },
   "outputs": [],
   "source": []
  }
 ],
 "metadata": {
  "kernelspec": {
   "display_name": "Python 3",
   "language": "python",
   "name": "python3"
  },
  "language_info": {
   "codemirror_mode": {
    "name": "ipython",
    "version": 3
   },
   "file_extension": ".py",
   "mimetype": "text/x-python",
   "name": "python",
   "nbconvert_exporter": "python",
   "pygments_lexer": "ipython3",
   "version": "3.5.1"
  }
 },
 "nbformat": 4,
 "nbformat_minor": 0
}
