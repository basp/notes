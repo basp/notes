{
 "cells": [
  {
   "cell_type": "markdown",
   "metadata": {},
   "source": [
    "#### Setup\n",
    "In order for all of the code below to work we need to do some necessary Python incantations."
   ]
  },
  {
   "cell_type": "code",
   "execution_count": 1,
   "metadata": {
    "collapsed": true
   },
   "outputs": [],
   "source": [
    "import matplotlib.pyplot as plt\n",
    "from matplotlib import patches # we'll use the wedge patch for drawing apertures\n",
    "import plotutils as pu # helpers to setup matplotlib\n",
    "import pfcalc # helpers for this notebook to hide all my fugly plotting code\n",
    "%matplotlib inline"
   ]
  },
  {
   "cell_type": "markdown",
   "metadata": {},
   "source": [
    "This notebook describes the alternative pupil fill calculation in the ITFW (integration time framework, also known as the dose framework) that will be used to support the new moon apertures.\n",
    "\n",
    "#### Overview\n",
    "When we observe light that is reflected from _tall_ open structures we tend to observe multiple _layers_ in the objective that are layed out like concentric circles in a 2D plane.\n",
    "\n",
    "Since we are only interested in the first order we want to cut away the other circles and these apertures are designed to do that. "
   ]
  },
  {
   "cell_type": "code",
   "execution_count": 2,
   "metadata": {
    "collapsed": false,
    "scrolled": false
   },
   "outputs": [
    {
     "data": {
      "image/png": "[encoded data removed]",
      "text/plain": [
       "<matplotlib.figure.Figure at 0x18a6b5397b8>"
      ]
     },
     "metadata": {},
     "output_type": "display_data"
    }
   ],
   "source": [
    "pfcalc.aperture_examples()"
   ]
  },
  {
   "cell_type": "markdown",
   "metadata": {},
   "source": [
    "When light goes through an aperture it will eventually hit the _reflective_, reflect in the opposite angle (more or less) and continue its path until it finally hits the *objective*. The light will naturally hit the objective in a (sort of) reflected position depending on the direction of the beam. In our case, the exact position also depends on the wavelength and the alignment and pitch of the grating. \n",
    "\n",
    "We will assume that the alignment of the grating and the type of aperture chosen are such that the light that we are interested in ends up in the top right quadrant. This means that our objective position only depends on the wavelength $\\lambda$ and pitch of the grating $p$ which we will define soon.\n",
    "\n",
    "We can visualize our main use cases as follows where the blue part represents the position where the light enters the aperture and the red part represents the position where the light hits the objective under ideal circumstances."
   ]
  },
  {
   "cell_type": "code",
   "execution_count": 3,
   "metadata": {
    "collapsed": false
   },
   "outputs": [
    {
     "data": {
      "image/png": "[encoded data removed]",
      "text/plain": [
       "<matplotlib.figure.Figure at 0x18a6d677588>"
      ]
     },
     "metadata": {},
     "output_type": "display_data"
    }
   ],
   "source": [
    "pfcalc.aperture_reflection_examples()"
   ]
  },
  {
   "cell_type": "markdown",
   "metadata": {},
   "source": [
    "Notice again that in all of these cases we are interested in the light that ends up in the top right quadrant. The real goal of this calculation is to calculate the red zone with regards to the pitch of the grating, the wavelength of the light and the numerical aperture of the obvjective.\n",
    "\n",
    "This calculation is based on _pixel counting_ and so we need to translate from NA coordinates to pixel coordinates. In NA coordinate space the origin $(0,0)$ is in the center of the plane. But in pixel coordinate space the origin is at the lower left corner (or the top left corner in some graphics systems) of the bitmap. That means that the point $(0,0)$ in NA coordinates is equivalent to the center point $cp = (\\lceil\\frac{W}{2}\\rceil, \\lceil\\frac{H}{2}\\rceil)$ in pixel or bitmap coordinates where $W$ and $H$ are the width and height of our bitmap respectively.\n",
    "\n",
    "Since our bitmaps are square with fixed size we can get away with using scalars instead of vectors to translate both $x$ and $y$ coordinates from one coordinate system to another. Also we can make them constant since these will not change during runtime."
   ]
  },
  {
   "cell_type": "code",
   "execution_count": 4,
   "metadata": {
    "collapsed": false
   },
   "outputs": [],
   "source": [
    "W = 550  # width (and height) of our bitmap\n",
    "cp = 275 # center point of our bitmap"
   ]
  },
  {
   "cell_type": "markdown",
   "metadata": {},
   "source": []
  },
  {
   "cell_type": "markdown",
   "metadata": {},
   "source": []
  }
 ],
 "metadata": {
  "anaconda-cloud": {},
  "kernelspec": {
   "display_name": "Python [default]",
   "language": "python",
   "name": "python3"
  },
  "language_info": {
   "codemirror_mode": {
    "name": "ipython",
    "version": 3
   },
   "file_extension": ".py",
   "mimetype": "text/x-python",
   "name": "python",
   "nbconvert_exporter": "python",
   "pygments_lexer": "ipython3",
   "version": "3.5.2"
  }
 },
 "nbformat": 4,
 "nbformat_minor": 1
}
