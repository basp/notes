{
 "cells": [
  {
   "cell_type": "markdown",
   "metadata": {},
   "source": [
    "## 3dgfx the math\n",
    "This is pretty much a collection of notes mostly inspired by [Computer Graphics, Fall 2009](https://www.youtube.com/playlist?list=PL_w_qWAQZtAZhtzPI5pkAtcUVgmzdAP8g). Yeah it's an old course but it's very good and covers a lot of essentials in a fast pace.\n",
    "\n",
    "This is by no means a substitute for watching it yourself; please do if you're tyring to figure out this stuff. This is more like a companion guide where essential materials are made real by executable examples where possible and relevant.\n",
    "\n",
    "We will focus only on the math. Any programming (besides the code in this book) will be out of scope. The target audience is experience programmers who already have (or should have) seen this stuff and need an extended cheat sheet in the form of a refresher.\n",
    "\n",
    "> \"All the meat I've eaten. I forgive myself\""
   ]
  },
  {
   "cell_type": "code",
   "execution_count": null,
   "metadata": {
    "collapsed": true
   },
   "outputs": [],
   "source": [
    "import numpy as np\n",
    "import matplotlib.pyplot as plt\n",
    "%matplotlib inline"
   ]
  },
  {
   "cell_type": "markdown",
   "metadata": {},
   "source": [
    "## vector space\n",
    "A **vector space** (also called a **linear space**) is a collection of objects called **vectors** which may be added together and multiplied by numbers (called **scalars** in this context). The operations of multiplication and addition must satisfy certain requirements called *axioms*.\n",
    "\n",
    "A vector space over a field $F$ is a set $V$ together with two operations that satisfy the eight axioms below. Elements of $V$ are commonly called vectors. Elements of $F$ are commonly called scalars.\n",
    "\n",
    "The first operation, called *vector addition* or just *addition* takes any two vectors $\\vec{v}$ and $\\vec{w}$ and assigns them to a third vector commonly written as $\\vec{v} + \\vec{w}$ and called the sum of these two vectors. The second operation, *vector multiplication* takes any scalar $a$ and any vector $\\vec{v}$ and produces a new vector $a\\vec{v}$.\n",
    "\n",
    "### axioms\n",
    "In the list below, let $\\vec{u}$, $\\vec{v}$ and $\\vec{w}$ be arbitrary vectors in $V$, and $a$ and $b$ scalars in $F$.\n",
    "\n",
    "#### associativity of addition\n",
    "$\\vec{u} + (\\vec{v} + \\vec{w}) = (\\vec{u} + \\vec{v}) + \\vec{w}$\n",
    "\n",
    "#### communativity of addition\n",
    "$\\vec{u} + \\vec{w} = \\vec{w} + \\vec{u}$\n",
    "\n",
    "#### identity element of addition\n",
    "There exists an element $0 \\in V$, called the *zero vector* such that $\\vec{v} + 0 = \\vec{v}$ for all $\\vec{v} \\in V$.\n",
    "\n",
    "#### inverse elements of addition\n",
    "For every element $\\vec{v} \\in V$ there exists an element $-\\vec{v} \\in V$ called the *additive inverse* of $\\vec{v}$ such that $\\vec{v} + (-\\vec{v}) = 0$.\n",
    "\n",
    "#### compatibility of scalar multiplication with field multiplication\n",
    "$a(b\\vec{v}) = (ab)\\vec{v}$\n",
    "\n",
    "#### identity element of scalar multiplication\n",
    " $1\\vec{v} = \\vec{v}$, where $1$ denotes the multiplicative identity in $F$.\n",
    " \n",
    "#### distributivity of scalar multiplication with respect to vector addition\n",
    "$a(\\vec{u} + \\vec{v}) = a\\vec{u} + a\\vec{v}$\n",
    "\n",
    "#### distributivity of scalar multiplication with respect to field addition\n",
    "$(a + b)\\vec{v} = a\\vec{v} + b\\vec{v}$\n",
    "\n",
    "When the scalar field $F$ is the real numbers $\\mathbb{R}$, the vector space is called a *real vector space*. When the scalar field is complex numbers, the vector space is called a *complex vector space*."
   ]
  },
  {
   "cell_type": "markdown",
   "metadata": {},
   "source": [
    "\n",
    "## affine space\n",
    "In an **affine space**, there is no distinguished point that serves as an origin. Hence, no vector has a fixed origin and no vector can be uniquely associated to a *point*. In an affine space, there are instead *displacement vectors* also called *translation vectors* or *simply translations*, between two points of the space. \n",
    "\n",
    "Thus it makes sense to subtract two points of the space, giving a translation vector, but it does not make sense to add two points of the space. \n",
    "\n",
    "$\\vec{v} = P_2 - P_1$\n",
    "\n",
    "Likewise, it makes sense to add a vector to a point of an affine space, resulting in a new point translated from the starting point by that vector.\n",
    "\n",
    "$P_2 = P_1 + \\vec{v}$\n",
    "\n",
    "Note that we can interpolate any point $P_t$ on the line through points $P_1$ and $P_2$ by scaling the translation vector with a factor ${t}$.\n",
    "\n",
    "$P_t = P_1 + t\\vec{v} = P_1 + t(P_2 - P_1)$\n",
    "\n",
    "This is demonstrated in the plot below."
   ]
  },
  {
   "cell_type": "code",
   "execution_count": null,
   "metadata": {
    "collapsed": false,
    "scrolled": true
   },
   "outputs": [],
   "source": [
    "def plot_line(p1, p2, style='b', **kwargs):\n",
    "    p1x, p1y = p1\n",
    "    p2x, p2y = p2\n",
    "    plt.plot([p1x, p2x], [p1y, p2y], style, **kwargs)\n",
    "\n",
    "P1 = np.array([1, 1])\n",
    "P2 = np.array([3, 2])\n",
    "\n",
    "t = 0.38\n",
    "Pt = P1 + t * (P2 - P1)\n",
    "\n",
    "plot_line(P1, P2, label=r'$t(P_2 - P_1) = t\\vec{v}$')\n",
    "\n",
    "plt.plot(*P1, 'ko')\n",
    "plt.plot(*P2, 'ko')\n",
    "plt.plot(*Pt, 'ro')\n",
    "\n",
    "plt.legend()\n",
    "\n",
    "ax = plt.axes()\n",
    "ax.set_xlim(0, 4)\n",
    "ax.set_ylim(0, 3)\n",
    "ax.annotate('$P_1$', (P1[0], P1[1]), xytext=(P1[0], P1[1] - 0.20))\n",
    "ax.annotate('$P_2$', (P2[0], P2[1]), xytext=(P2[0], P2[1] + 0.10))\n",
    "ax.annotate('$P_{t=%.2f}$' % t, (Pt[0], Pt[1]), xytext=(Pt[0], Pt[1] - 0.20))"
   ]
  },
  {
   "cell_type": "markdown",
   "metadata": {},
   "source": [
    "We can also write this differently: \n",
    "\n",
    "$P_t = P1 +  t(P_2 - P_1) = (1 - t)P_1 + tP_2$. \n",
    "\n",
    "We can see this by refactoring it:\n",
    "\n",
    "$(1 - t)P_1 + tP_2 = P_1 - tP_1 + tP_2 = P_1 + t(P_2 - P_1)$.\n",
    "\n",
    "The benefit of writing it like $(1 - t)P_1 + tP$ is that now we have something that is known as an *affine combination*."
   ]
  },
  {
   "cell_type": "markdown",
   "metadata": {
    "collapsed": true
   },
   "source": [
    "## affine combination\n",
    "An **affine combination**, also sometimes called an *affine sequence*, of vectors ${x_1}, \\ldots, {x_n}$ is a vector $\\underset{i=1}{\\overset{n}{\\sum}}{\\alpha_i}\\cdot{x_i} = {\\alpha_1}{x_1} + {\\alpha_2}{x_2} + \\cdots + {\\alpha_n}{x_n}$ called a *linear combination* of ${x_1}, \\ldots, {x_n}$ in which the sum of the coefficients is 1, thus: $\\underset{i=1}{\\overset{n}{\\sum}}{\\alpha_i} = 1$. \n",
    "\n",
    "Here the vectors ${x_i}$ are elements of a given vector space $V$ over a field $K$ and the coefficients ${\\alpha_i}$ are scalars in $K$. This concept is important, for example, in *Euclidean geometry*.\n",
    "\n",
    "The act of taking an affine combination commutes with any *affine transformation* $T$ in the sense that $T{\\underset{i=1}{\\overset{n}{\\sum}}}{\\alpha_i}\\cdot{x_i} = \\underset{i=1}{\\overset{n}{\\sum}}{\\alpha_i}\\cdot{T}{x_i}$.\n",
    "\n",
    "In particular, any affine combination of the [fixed points](https://en.wikipedia.org/wiki/Fixed_point_(mathematics) of a given affine transformation $T$ is also a fixed point of $T$, so the set of fixed points of $T$ forms an affine subspace (in 3D: a line or a plane, and the trivial cases, a point or the whole space)."
   ]
  },
  {
   "cell_type": "markdown",
   "metadata": {},
   "source": [
    "### barycentric coordinates\n",
    "In the context of a triangle, **barycentric coordinates** are also known as *area coordinates* or *areal coordinates*, because the coordinates of $P$ with respect to triangle $ABC$ are equivalent to the (signed) ratios of the areas of $PBC$, $PCA$ and $PAB$ to the area of the reference triangle $ABC$. \n",
    "\n",
    "Areal and trilinear coordinates are used for similar purposes in geometry.\n",
    "\n",
    "In order to figure out what this all means, we'll start with a triangle ${P_1}{P_2}{P_3}$ and a point ${P}$ inside of it. The code below defines these points and a `triangle_example1` function so we can re-use it. The function just plots the triangle, the points and some annotations."
   ]
  },
  {
   "cell_type": "code",
   "execution_count": null,
   "metadata": {
    "collapsed": false
   },
   "outputs": [],
   "source": [
    "P1 = 0, 1\n",
    "P2 = 2, 5\n",
    "P3 = 4, 2\n",
    "P = 1.8, 2.9\n",
    "\n",
    "def triangle_example1(): \n",
    "    plot_line(P1, P2)\n",
    "    plot_line(P2, P3)\n",
    "    plot_line(P3, P1)\n",
    "\n",
    "    plt.plot(*P1, 'ko')\n",
    "    plt.plot(*P2, 'ko')\n",
    "    plt.plot(*P3, 'ko')\n",
    "    plt.plot(*P, 'ro')\n",
    "\n",
    "    ax = plt.axes()\n",
    "    ax.set_xlim(-0.5, 4.5)\n",
    "    ax.set_ylim(0.5, 5.5)\n",
    "    ax.annotate('$P_1$', P1, xytext=(P1[0] - 0.2, P1[1] + 0.2))\n",
    "    ax.annotate('$P_2$', P2, xytext=(P2[0] + 0.2, P2[1] + 0))\n",
    "    ax.annotate('$P_3$', P3, xytext=(P3[0] - 0.1, P3[1] - 0.3))\n",
    "    ax.annotate('$P$', P, xytext=(P[0] + 0.1, P[1] + 0.2))\n",
    "    ax.set_aspect(1.0)"
   ]
  },
  {
   "cell_type": "markdown",
   "metadata": {},
   "source": [
    "And now we call the `triangle_example1` function to plot it:"
   ]
  },
  {
   "cell_type": "code",
   "execution_count": null,
   "metadata": {
    "collapsed": false
   },
   "outputs": [],
   "source": [
    "plt.figure(figsize=(6,6))\n",
    "triangle_example1()"
   ]
  },
  {
   "cell_type": "markdown",
   "metadata": {},
   "source": [
    "We have all the components to express $P$ in terms of the points of the triangle ${P_1}{P_2}{P_3}$. \n",
    "\n",
    "We start at $P_1$ and go some amount $t_2$ in the direction of the vector $P_2 - P_1$. We'll end up at $P1 + t_2(P2 - P1)$. From there we go some amount $t_3$ in the direction of the vector $P_3 - P_1$ and with the proper amounts (or *ratios*) of $t_2$ and $t_3$ we should be able to end up at $P$.\n",
    "\n",
    "To visualize it we'll use a slightly different plot. The dashed line goes through point $P$ and runs in the direction of $P_3 - P_1$. We start at $P_1$ and go in the direction of the $P_2 - P_1$ vector until we end up at the dashed line. From there we just have to follow said dashed line until we end up at $P$."
   ]
  },
  {
   "cell_type": "code",
   "execution_count": null,
   "metadata": {
    "collapsed": false,
    "scrolled": true
   },
   "outputs": [],
   "source": [
    "plt.figure(figsize=(6,6))\n",
    "triangle_example1()\n",
    "\n",
    "f = lambda x: 1/4 * x + 1\n",
    "x = np.linspace(-1, 5, 5)\n",
    "\n",
    "# FIXME: Let's just do it engineering style for now\n",
    "f_x = f(x) - f(P[0]) + P[1]\n",
    "\n",
    "plt.plot(x, f_x, 'r--')\n",
    "\n",
    "ax = plt.axes()\n",
    "ax.annotate(r'$t_2$', (0.25, 2))\n",
    "ax.annotate(r'$t_3$', (1.25, 2.45))"
   ]
  },
  {
   "cell_type": "markdown",
   "metadata": {},
   "source": [
    "In the end we'll end up with $P = P_1 + t_2(P2 - P1) + t_3(P_3 - P_1)$. \n",
    "\n",
    "What happened to $t_1$ though? Earlier we saw how to rewrite this so it's an *affine combination* and we can actually do that.\n",
    "\n",
    "Let's try expanding everything, this usually helps:\n",
    "\n",
    "$P = P_1 + t_2{P_2} - t_2{P_1} + t_3{P_3} - t_3{P_1}$\n",
    "\n",
    "First thing we note is that this is just a simple addition. It's bascially $A + B + C + D$. Except here it it's $P = A + B - C + D - E$.\n",
    "\n",
    "Another thing we can see is that $P_1$ appears multple times. It's important to note that this is not a characteristic of the point $P_1$ itself but just the fact that our calculation uses that as a reference point. It could be any point but $P_1$ is just an easy reference.\n",
    "\n",
    "There's probably lots of ways to geek this out but I like to take the pragmatic way. We got a $P_1$, $-{t_2}{P_1}$ and $-{t_3}{P_1}$ and some other stuff added to that. We can simplify this:\n",
    "\n",
    "$1 \\cdot {P_1} - {t_2}{P_1} - {t_3}{P_1} = (1 - t_2 - t_3)P_1$\n",
    "\n",
    "Now that we managed to capture all of the instances of $P_1$ in a single factor we can incorporate this with the factors of $P_2$ and $P_3$. As we found out above they are quite easy though, they are just $t_2{P_2}$ and $t_3{P_3}$ so that:\n",
    "\n",
    "$P = 1 \\cdot P_1 + t_2{P_2} - t_2{P_1} + t_3{P_3} - t_3{P_1} = (1 - t_2 - t_3)P_1 + t_2{P_2} + t_3{P_3}$\n",
    "\n",
    "Considering that we are a looking for an *affine combination* and we ended up with:\n",
    "\n",
    "$P = (1 - t_2 - t_3)P_1 + t_2{P_2} + t_3{P_3}$\n",
    "\n",
    "We can now finally start to answer: \"so what's $t_1$\"? Well looking at the sequence above we would have to guess it's $1 - t_2 - t_3$ so that we end up with:\n",
    "\n",
    "$P = t_1{P_1} + t_2{P_2} + t_3{P_3}$\n",
    "\n",
    "\n",
    "$P = (1 - t_2 - t_3)P_1 + t_2{P_2} + t_3{P_3}$."
   ]
  },
  {
   "cell_type": "markdown",
   "metadata": {},
   "source": [
    "Now the point of this is not to find exactly where $P$ is. The point is *how* to find out how to calculate it in terms of three points in **affine space** and how it works.\n",
    "\n",
    "The real beauty of this all lies in the fact that it doesn't really matter what the points are or what they represent as long as they can be made to operate in affine space. Which basically means they work according to the [axioms](http://localhost:8888/notebooks/3dgfx.ipynb#axioms) we listed at the top."
   ]
  },
  {
   "cell_type": "code",
   "execution_count": null,
   "metadata": {
    "collapsed": true
   },
   "outputs": [],
   "source": []
  }
 ],
 "metadata": {
  "kernelspec": {
   "display_name": "Python 3",
   "language": "python",
   "name": "python3"
  },
  "language_info": {
   "codemirror_mode": {
    "name": "ipython",
    "version": 3
   },
   "file_extension": ".py",
   "mimetype": "text/x-python",
   "name": "python",
   "nbconvert_exporter": "python",
   "pygments_lexer": "ipython3",
   "version": "3.5.0"
  }
 },
 "nbformat": 4,
 "nbformat_minor": 0
}
