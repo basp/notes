{
 "cells": [
  {
   "cell_type": "markdown",
   "metadata": {},
   "source": [
    "# completing the square\n",
    "> As always, we need our friends."
   ]
  },
  {
   "cell_type": "code",
   "execution_count": 34,
   "metadata": {
    "collapsed": true
   },
   "outputs": [],
   "source": [
    "import numpy as np\n",
    "import matplotlib.pyplot as plt\n",
    "import sympy\n",
    "from sympy import Integer as I, Rational as R, solve, S, N\n",
    "import plotutils as pu\n",
    "%matplotlib inline"
   ]
  },
  {
   "cell_type": "markdown",
   "metadata": {},
   "source": [
    "This is just a quick reference on how to solve quadratic equations using [square completion](https://en.wikipedia.org/wiki/Completing_the_square). We'll use `sympy` and `matplotlib` to verify our results.\n",
    "\n",
    "**Completing the square** is a basic method of solving a quadratic equation. In fact, the [quadratic formula](https://en.wikipedia.org/wiki/Quadratic_formula) can be proven using the method of completing the square.\n",
    "\n",
    ">$(x + a)^2 = x^2 + 2ax + a^2$\n",
    "\n",
    "We'll start with a basic *quadratic equation* by writing down a random one: $x^2 + 5x - 18 = 0$\n",
    "\n",
    "Note that you can write down anything like $ax^2 + bx + c$ and just substitude $a$, $b$ and $c$ with some random numbers and it will work. You might run into negative roots but then you can just involve the [imaginary number](https://en.wikipedia.org/wiki/Imaginary_number) and solve it anyways (for example, see the second example below).\n",
    "\n",
    "What we are aiming for is to write it in a square form such as $(x + a)^2 = y$ so we can actually solve it by saying $x + a = \\sqrt{y}$.\n",
    "\n",
    "Let's get back to our equation $x^2 + 5x - 18 = 0$. We'll start by adding $18$ to each side:\n",
    "\n",
    "$$\n",
    "\\begin{align}\n",
    "x^2 + 5x - 18 & = 0 \\\\\n",
    "x^2 + 5x & = 18 \n",
    "\\end{align}\n",
    "$$\n",
    "\n",
    "Just as a reminder:\n",
    "\n",
    "> $(x + a)^2 = (x + a) \\times (x + a) = x \\times x + a \\times x + a \\times x + a \\times a =  x^2 + 2ax + a^2$\n",
    "\n",
    "In this case $2ax = 5x$ so in order to figure out what $a$ is we need to divide both sides by $2x$. This gives us $a = \\frac{5}{2} = 2\\frac{1}{2}$. We need to add $a^2 = {2\\frac{1}{2}}^2 = \\frac{25}{4} = 6\\frac{1}{4}$ to *complete the square* and the rules of algebra tell us that we need to add it to each side: \n",
    "\n",
    "$$\n",
    "\\begin{align}\n",
    "x^2 + 5x & = 18 \\\\\n",
    "x^2 + 5x + 6\\frac{1}{4} & = 18 + 6\\frac{1}{4} \\\\\n",
    "x^2 + 5x + 6\\frac{1}{4} & = 24\\frac{1}{4}\n",
    "\\end{align}\n",
    "$$\n",
    "\n",
    "Now we have a constant number on the right-hand side. It's a rational but that's no problem. At least its positive so we don't need $i$ for this. More importantly though, the left-hand side is in a $x^2 + 2ax + a^2$ configuration. That means we can now rewrite it as $(x + a)^2$.\n",
    "\n",
    "$$\n",
    "\\begin{align}\n",
    "x^2 + 5x + 6\\frac{1}{4} & = 24\\frac{1}{4} \\\\\n",
    "(x - 2\\frac{1}{2})^2 & = 24\\frac{1}{4}\n",
    "\\end{align}\n",
    "$$\n",
    "\n",
    "So now that we have a square expression on the left and a constant on the right we can start to formulate an answer:\n",
    "\n",
    "$$\n",
    "\\begin{align}\n",
    "(x + 2\\frac{1}{2}) \n",
    "= \\pm\\sqrt{24\\frac{1}{4}} \\implies x & = -2\\frac{1}{2} - \\sqrt{24\\frac{1}{4}} \\cup -2\\frac{1}{2} + \\sqrt{24\\frac{1}{4}} \\\\\n",
    "& = -2\\frac{1}{2} - \\frac{1}{2}\\sqrt{97} \\cup -2\\frac{1}{2} + \\frac{1}{2}\\sqrt{97}\n",
    "\\end{align}\n",
    "$$\n",
    "\n",
    "We can check this using `sympy`."
   ]
  },
  {
   "cell_type": "code",
   "execution_count": 2,
   "metadata": {
    "collapsed": false
   },
   "outputs": [
    {
     "data": {
      "text/plain": [
       "[-5/2 + sqrt(97)/2, -sqrt(97)/2 - 5/2]"
      ]
     },
     "execution_count": 2,
     "metadata": {},
     "output_type": "execute_result"
    }
   ],
   "source": [
    "expr = S('x^2 + 5*x - 18')\n",
    "solve(expr)"
   ]
  },
  {
   "cell_type": "markdown",
   "metadata": {},
   "source": [
    "Bcause we *can* and because it's kinda fun and easy to plot we'll try to visualize the solution as well."
   ]
  },
  {
   "cell_type": "code",
   "execution_count": 57,
   "metadata": {
    "collapsed": false
   },
   "outputs": [
    {
     "data": {
      "image/png": "[encoded data removed]",
      "text/plain": [
       "<matplotlib.figure.Figure at 0xe2056a4128>"
      ]
     },
     "metadata": {},
     "output_type": "display_data"
    }
   ],
   "source": [
    "with plt.xkcd():\n",
    "    ax = plt.gca()\n",
    "    ax.spines['top'].set_visible(False)\n",
    "    ax.spines['right'].set_visible(False)\n",
    "    ax.spines['left'].set_position(('data', 0))\n",
    "    ax.spines['bottom'].set_position(('data', 0))\n",
    "    ax.xaxis.set_ticks_position('bottom')\n",
    "    ax.xaxis.set_ticks([-5/2-np.sqrt(97)/2, -5/2+np.sqrt(97)/2])\n",
    "    ax.yaxis.set_ticks([])\n",
    "    ax.xaxis.set_ticklabels(['-5/2-sqrt(97)/2', '-5/2+sqrt(97)/2'])\n",
    "    ax.tick_params(direction='out', width=1.0, length=20.0)\n",
    "    x = np.linspace(-10, 5, 100)\n",
    "    y = x**2 + 5*x - 18\n",
    "    plt.plot(x, y, label='y = x*x + 5*x - 18')\n",
    "    plt.ylim(-30, 60)\n",
    "    plt.legend(loc=2)"
   ]
  },
  {
   "cell_type": "markdown",
   "metadata": {},
   "source": [
    "# imaginary example\n",
    "So let's try another one. Again, we'll just jot down some random quadratic equation: $3x^2 - 3x + 5 = 0$. We want to get rid of that $3$ at the beginning so we'll start by scaling down the whole by a factor of $3$.\n",
    "\n",
    "$\\frac{3x^2 - 3x + 5}{3} = 0 \\implies x^2 - x + \\frac{5}{3} = 0 $\n",
    "\n",
    "Now that we have something a bit easier to work with, the next thing we want is to write the left hand side as $x^2 + 2ax + a^2$.\n",
    "\n",
    "<hr/>\n",
    "\n",
    "$$\n",
    "\\begin{align}\n",
    "x^2 - x + \\frac{5}{3} & = 0 \\\\\n",
    "x^2 - x & = -\\frac{5}{3} & \\text{subtract $\\frac{5}{3}$} \\\\\n",
    "x^2 - x + \\frac{1}{4} & = -\\frac{5}{3} + \\frac{1}{4} & \\text{add $a^2$ with $a = \\frac{1}{2}$} \\\\\n",
    "x^2 - x + \\frac{1}{4} & = -\\frac{17}{12} & \\text{simplify} \\\\\n",
    "(x - \\frac{1}{2})^2 & = -\\frac{17}{12} & \\text{write as square} \\\\\n",
    "x - \\frac{1}{2} & = \\pm \\sqrt{-\\frac{17}{12}} & \\text{unsquare left-hand side} \\\\\n",
    "x & = \\frac{1}{2} \\pm \\sqrt{\\frac{17}{12}}i & \\text{remove negative root using $i$} \\\\\n",
    "x & = \\frac{1}{2} \\pm \\sqrt{51}\\frac{i}{6} & \\text{simplify}\n",
    "\\end{align}\n",
    "$$\n",
    "\n",
    "<hr/>\n",
    "\n",
    "Let's check if `sympy` agrees with our answer."
   ]
  },
  {
   "cell_type": "code",
   "execution_count": 36,
   "metadata": {
    "collapsed": false
   },
   "outputs": [
    {
     "data": {
      "text/plain": [
       "[1/2 - sqrt(51)*I/6, 1/2 + sqrt(51)*I/6]"
      ]
     },
     "execution_count": 36,
     "metadata": {},
     "output_type": "execute_result"
    }
   ],
   "source": [
    "solve(S('x^2 - x + 5/3'))"
   ]
  },
  {
   "cell_type": "markdown",
   "metadata": {},
   "source": [
    "Looks like we got it. To be honest, I kinda cheated on the last simplify step by using `sympy` to simplify the square root of the rational. Let's make sure our initial answer was correct."
   ]
  },
  {
   "cell_type": "code",
   "execution_count": 38,
   "metadata": {
    "collapsed": false
   },
   "outputs": [
    {
     "data": {
      "text/plain": [
       "True"
      ]
     },
     "execution_count": 38,
     "metadata": {},
     "output_type": "execute_result"
    }
   ],
   "source": [
    "initial = sympy.sqrt(R(17, 12))*sympy.I\n",
    "final = sympy.sqrt(51)*sympy.I/6\n",
    "initial == final"
   ]
  }
 ],
 "metadata": {
  "kernelspec": {
   "display_name": "Python 3",
   "language": "python",
   "name": "python3"
  },
  "language_info": {
   "codemirror_mode": {
    "name": "ipython",
    "version": 3
   },
   "file_extension": ".py",
   "mimetype": "text/x-python",
   "name": "python",
   "nbconvert_exporter": "python",
   "pygments_lexer": "ipython3",
   "version": "3.5.1"
  }
 },
 "nbformat": 4,
 "nbformat_minor": 0
}
