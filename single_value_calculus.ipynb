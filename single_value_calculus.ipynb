{
 "cells": [
  {
   "cell_type": "code",
   "execution_count": 2,
   "metadata": {
    "collapsed": true
   },
   "outputs": [],
   "source": [
    "import numpy as np\n",
    "import matplotlib.pyplot as plt\n",
    "%matplotlib inline"
   ]
  },
  {
   "cell_type": "markdown",
   "metadata": {},
   "source": [
    "## single value calculus"
   ]
  },
  {
   "cell_type": "markdown",
   "metadata": {},
   "source": [
    "Find the tangent line to $y = f(x)$ at $P = (X_0, Y_0)$\n",
    "\n",
    "This is defined as $y - y_0 = m(x - x_0)$ where $m$ is the slope.\n",
    "\n",
    "$y_0 = f(x_0)$\n",
    "\n",
    "$m = f'(x_0)$\n",
    "\n",
    "The derivative $f'(x)$ of $f$ at $x_0$ is the slope of the tangent line to $y = f(x)$ at $P$. We can start by defining a secant line $PQ$ and calculate the slope of that. This is defined as $\\frac{{\\Delta}f'}{{\\Delta}x}$ and we can $m = \\lim_{\\Delta{x}\\to 0}\\frac{{\\Delta}f'}{{\\Delta}x}$\n",
    "\n",
    "$P = (x_0, f(x_0))$ and $Q = (x_0 + \\Delta{x}, f(x_0 + \\Delta{x})$\n",
    "\n",
    "Now we can write a different formula:\n",
    "\n",
    "$f'(x_0) = \\lim_{\\Delta{x}\\to 0}\\frac{f(x_0 + \\Delta{x}) - f(x_0)}{\\Delta{x}}$"
   ]
  },
  {
   "cell_type": "markdown",
   "metadata": {},
   "source": [
    "#### example 1\n",
    "We'll use a function $f(x) = \\frac{1}{x}$ for this example.\n",
    "\n",
    "We can now say $\\frac{\\Delta{f}}{\\Delta{x}} = \\frac{\\frac{1}{x_0 + \\Delta{x}} - \\frac{1}{x_0}}{\\Delta{x}} = \\frac{1}{\\Delta{x}}(\\frac{x_0 - (x_0 + \\Delta{x})}{(x_0\\Delta{x})x_0})$\n",
    "\n",
    "And this is equal to $\\frac{1}{\\Delta{x}}(\\frac{-\\Delta{x}}{(x_0 + \\Delta{x})x_0}) = \\frac{-1}{(x_0 + \\Delta{x})x_0}\\lim_{\\Delta{x}\\to 0} = \\frac{-1}{{x_0}^2}$\n",
    "\n",
    "So $f'(x_0) = \\frac{-1}{{x_0}^2}$"
   ]
  },
  {
   "cell_type": "code",
   "execution_count": 20,
   "metadata": {
    "collapsed": false
   },
   "outputs": [
    {
     "data": {
      "text/plain": [
       "<matplotlib.legend.Legend at 0x7ba5a57be0>"
      ]
     },
     "execution_count": 20,
     "metadata": {},
     "output_type": "execute_result"
    },
    {
     "data": {
      "image/png": "[encoded data removed]",
      "text/plain": [
       "<matplotlib.figure.Figure at 0x7ba5949b00>"
      ]
     },
     "metadata": {},
     "output_type": "display_data"
    }
   ],
   "source": [
    "f = lambda x: 1/x\n",
    "f_acc = lambda x: -1/x**2\n",
    "x = np.linspace(0.1, 2, 100)\n",
    "y = f(x)\n",
    "m = f_acc(x)\n",
    "plt.plot(x, y, label=r\"$1/x$\")\n",
    "plt.plot(x, m, label=r\"$-1/x^2$\")\n",
    "plt.legend()"
   ]
  },
  {
   "cell_type": "markdown",
   "metadata": {},
   "source": []
  }
 ],
 "metadata": {
  "kernelspec": {
   "display_name": "Python 3",
   "language": "python",
   "name": "python3"
  },
  "language_info": {
   "codemirror_mode": {
    "name": "ipython",
    "version": 3
   },
   "file_extension": ".py",
   "mimetype": "text/x-python",
   "name": "python",
   "nbconvert_exporter": "python",
   "pygments_lexer": "ipython3",
   "version": "3.5.0"
  }
 },
 "nbformat": 4,
 "nbformat_minor": 0
}
