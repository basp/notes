{
 "cells": [
  {
   "cell_type": "code",
   "execution_count": 1,
   "metadata": {
    "collapsed": true
   },
   "outputs": [],
   "source": [
    "import numpy as np\n",
    "import matplotlib.pyplot as plt\n",
    "import plotutils as pu\n",
    "from sympy import *\n",
    "%matplotlib inline"
   ]
  },
  {
   "cell_type": "markdown",
   "metadata": {},
   "source": [
    "We add vectors to get $v + w$. We multiply them by numbers $c$ and $d$ to get $cv$ and $dw$. Combining those two operations (adding $cw$ to $dw$) gives the **linear combination** $cv + dw$.\n",
    "\n",
    "$$cv + dw = c\\begin{bmatrix}1\\\\1\\end{bmatrix} + d\\begin{bmatrix}2\\\\3\\end{bmatrix} = \\begin{bmatrix}c + 2d\\\\c + 3d\\end{bmatrix}$$\n",
    "\n",
    "We can also write a column vector *inline* as $w = (2, 3)$ but that is not the same as the row vector $\\begin{bmatrix}2 & 3\\end{bmatrix}$."
   ]
  },
  {
   "cell_type": "code",
   "execution_count": 15,
   "metadata": {
    "collapsed": false,
    "scrolled": true
   },
   "outputs": [
    {
     "data": {
      "text/plain": [
       "<matplotlib.patches.FancyArrow at 0x3a608e7d68>"
      ]
     },
     "execution_count": 15,
     "metadata": {},
     "output_type": "execute_result"
    },
    {
     "data": {
      "image/png": "[encoded data removed]",
      "text/plain": [
       "<matplotlib.figure.Figure at 0x3a60893748>"
      ]
     },
     "metadata": {},
     "output_type": "display_data"
    }
   ],
   "source": [
    "fix, axes = plt.subplots(1, figsize=(3, 3))\n",
    "pu.setup_axes(axes, xlim=(-1, 4), ylim=(-1, 4))\n",
    "arrowprops = {'head_length': 0.25, 'head_width': 0.18}\n",
    "plt.arrow(0, 0, 1, 1, **arrowprops, ec='r', fc='r')\n",
    "plt.arrow(0, 0, 2, 3, **arrowprops, ec='b', fc='b')"
   ]
  },
  {
   "cell_type": "markdown",
   "metadata": {},
   "source": [
    "## using sympy\n",
    "Sympy is a wonderful toolkit for doing symbolic programming. We can also use it to *cheat* and help it solve systems of equations for us. Let's put it to work on one of the problems of the linear algebra book.\n",
    "\n",
    "Write down the three equations for $c$, $d$ and $e$ so that $cu + dv + ew = b$ and try to find $c$, $d$ and $e$.\n",
    "\n",
    "$$\n",
    "u = \\begin{bmatrix}2\\\\-1\\\\0\\end{bmatrix}\n",
    "v = \\begin{bmatrix}-1\\\\2\\\\-1\\end{bmatrix}\n",
    "w = \\begin{bmatrix}0\\\\-1\\\\2\\end{bmatrix}\n",
    "b = \\begin{bmatrix}1\\\\0\\\\0\\end{bmatrix}\n",
    "$$\n",
    "\n",
    "The equations are:\n",
    "\n",
    "$$\n",
    "\\begin{cases}\n",
    "2c - d &= 1\\\\\n",
    "-c + 2d - e &= 0\\\\\n",
    "-d + 2e &= 0\\\\\n",
    "\\end{cases}\n",
    "$$\n",
    "\n",
    "And we could try solve them ourselves which is not that hard to do via elimination but alternatively we can also use `sympy`."
   ]
  },
  {
   "cell_type": "code",
   "execution_count": 22,
   "metadata": {
    "collapsed": false
   },
   "outputs": [
    {
     "data": {
      "text/plain": [
       "{d: 1/2, c: 3/4, e: 1/4}"
      ]
     },
     "execution_count": 22,
     "metadata": {},
     "output_type": "execute_result"
    }
   ],
   "source": [
    "s = [S('2*c - d - 1'), S('-c + 2*d - e'), S('-d + 2*e')]\n",
    "solve(s)"
   ]
  },
  {
   "cell_type": "code",
   "execution_count": null,
   "metadata": {
    "collapsed": true
   },
   "outputs": [],
   "source": []
  }
 ],
 "metadata": {
  "anaconda-cloud": {},
  "kernelspec": {
   "display_name": "Python [default]",
   "language": "python",
   "name": "python3"
  },
  "language_info": {
   "codemirror_mode": {
    "name": "ipython",
    "version": 3
   },
   "file_extension": ".py",
   "mimetype": "text/x-python",
   "name": "python",
   "nbconvert_exporter": "python",
   "pygments_lexer": "ipython3",
   "version": "3.5.2"
  }
 },
 "nbformat": 4,
 "nbformat_minor": 0
}
