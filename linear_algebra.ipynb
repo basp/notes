{
 "cells": [
  {
   "cell_type": "code",
   "execution_count": 1,
   "metadata": {
    "collapsed": true
   },
   "outputs": [],
   "source": [
    "import numpy as np\n",
    "import matplotlib.pyplot as plt\n",
    "%matplotlib inline"
   ]
  },
  {
   "cell_type": "markdown",
   "metadata": {},
   "source": [
    "## linear algebra\n",
    "Most of these notes correspond to the [video lectures](http://ocw.mit.edu/courses/mathematics/18-06-linear-algebra-spring-2010/video-lectures/) by Professor Gilbert Strang of MIT."
   ]
  },
  {
   "cell_type": "markdown",
   "metadata": {},
   "source": [
    "### the geometry of linear equations\n",
    "The fundamental problem of linear algebra is to solve a system of linear equations. We'll start with the case of $n$ equations and $n$ unknowns.\n",
    "\n",
    "Here are two lines that cross somewhere in a plane we're looking for the point where they cross.\n",
    "\n",
    "$\n",
    "\\left\\{\n",
    "\\begin{aligned}\n",
    "2x - y &= 0 \\\\ \n",
    "-x + 2y &= 3\n",
    "\\end{aligned}\n",
    "\\right.\n",
    "$\n",
    "\n",
    "As a preview (and because it's so easy to do) we'll quickly skip to the *matrix form* and write down:\n",
    "\n",
    "$\n",
    "\\begin{bmatrix}2 & -1 \\\\ -1 & 2\\end{bmatrix}\n",
    "\\begin{bmatrix}x \\\\ y\\end{bmatrix} = \n",
    "\\begin{bmatrix}0 \\\\ 3\\end{bmatrix}\n",
    "$\n",
    "\n",
    "Where $A = \\begin{bmatrix}2 & -1 \\\\ -1 & 2\\end{bmatrix}$ $x = \\begin{bmatrix}x \\\\ y\\end{bmatrix}$ and $b = \\begin{bmatrix}0 \\\\ 3\\end{bmatrix}$.\n",
    "\n",
    "We'll end up with $Ax = b$.\n",
    "\n",
    "#### row picture\n",
    "Let's start by plotting the equations.\n",
    "\n",
    "$\n",
    "\\left\\{\n",
    "\\begin{aligned}\n",
    "2x - y &= 0 \\implies y = 2x\\\\ \n",
    "-x + 2y &= 3 \\implies 2y = x + 3 \\implies y = \\frac{1}{2}x + 1\\frac{1}{2}\n",
    "\\end{aligned}\n",
    "\\right.\n",
    "$"
   ]
  },
  {
   "cell_type": "code",
   "execution_count": 101,
   "metadata": {
    "collapsed": false
   },
   "outputs": [
    {
     "data": {
      "text/plain": [
       "<matplotlib.legend.Legend at 0x4a97a00b8>"
      ]
     },
     "execution_count": 101,
     "metadata": {},
     "output_type": "execute_result"
    },
    {
     "data": {
      "image/png": "[encoded data removed]",
      "text/plain": [
       "<matplotlib.figure.Figure at 0x4a7c76198>"
      ]
     },
     "metadata": {},
     "output_type": "display_data"
    }
   ],
   "source": [
    "f1 = lambda x: 2*x\n",
    "f2 = lambda x: (1/2*x) + 1 + (1/2)\n",
    "x = np.linspace(0, 3, 100)\n",
    "plt.plot(x, f1(x), label=r'$y = 2x$')\n",
    "plt.plot(x, f2(x), label=r'$y = \\frac{1}{2}x + 1\\frac{1}{2}$')\n",
    "plt.legend(loc=4)"
   ]
  },
  {
   "cell_type": "markdown",
   "metadata": {},
   "source": [
    "We are interested in the value of $x$ where $2x = \\frac{1}{2}x + 1\\frac{1}{2}$ we can solve this pretty easily by saying that $2x - \\frac{1}{2}x = 1\\frac{1}{2}$ which simplifies to $1\\frac{1}{2}x = 1\\frac{1}{2}$. Now we can divide both sides by $1\\frac{1}{2}$ and we'll end up with $x = 1$."
   ]
  },
  {
   "cell_type": "markdown",
   "metadata": {
    "collapsed": true
   },
   "source": [
    "#### column picture\n",
    "Let's take a look at the columns of the matrix form.\n",
    "\n",
    "$x\\begin{bmatrix}2 \\\\ -1\\end{bmatrix} + y\\begin{bmatrix}-1 \\\\ 2\\end{bmatrix} = \\begin{bmatrix}0 \\\\ 3\\end{bmatrix}$\n",
    "\n",
    "The equation above is asking us to somehow combine the two vectors in the right amounts so we'll end up with a vector $\\begin{bmatrix}0 \\\\ 3\\end{bmatrix}$. \n",
    "\n",
    "We need to find the right *linear combination* of $x$ and $y$. We'll start by plotting the vectors."
   ]
  },
  {
   "cell_type": "code",
   "execution_count": 90,
   "metadata": {
    "collapsed": false,
    "scrolled": true
   },
   "outputs": [
    {
     "data": {
      "text/plain": [
       "<matplotlib.patches.FancyArrow at 0x4a972d160>"
      ]
     },
     "execution_count": 90,
     "metadata": {},
     "output_type": "execute_result"
    },
    {
     "data": {
      "image/png": "[encoded data removed]",
      "text/plain": [
       "<matplotlib.figure.Figure at 0x4a6b864a8>"
      ]
     },
     "metadata": {},
     "output_type": "display_data"
    }
   ],
   "source": [
    "ax = plt.axes()\n",
    "ax.set_xlim(-2, 3)\n",
    "ax.set_ylim(-2, 4)\n",
    "ax.arrow(0, 0, 2, -1, head_width=0.1, fc='g', ec='g', label='foo')\n",
    "ax.arrow(0, 0, -1, 2, head_width=0.1, fc='b', ec='b')\n",
    "ax.arrow(0, 0, 0, 3, head_width=0.1, fc='k', ec='k')"
   ]
  },
  {
   "cell_type": "markdown",
   "metadata": {},
   "source": [
    "From the row picture earlier we already know that the right combination is $x = 1$ and $y = 2$ so:\n",
    "\n",
    "$1\\begin{bmatrix}2 \\\\ -1\\end{bmatrix} + 2\\begin{bmatrix}-1 \\\\ 2\\end{bmatrix} = \\begin{bmatrix}0 \\\\ 3\\end{bmatrix}$\n",
    "\n",
    "We can plot and show how it works as well."
   ]
  },
  {
   "cell_type": "code",
   "execution_count": 89,
   "metadata": {
    "collapsed": false
   },
   "outputs": [
    {
     "data": {
      "text/plain": [
       "<matplotlib.patches.FancyArrow at 0x4a7c55c88>"
      ]
     },
     "execution_count": 89,
     "metadata": {},
     "output_type": "execute_result"
    },
    {
     "data": {
      "image/png": "[encoded data removed]",
      "text/plain": [
       "<matplotlib.figure.Figure at 0x4a96ddbe0>"
      ]
     },
     "metadata": {},
     "output_type": "display_data"
    }
   ],
   "source": [
    "ax = plt.axes()\n",
    "ax.set_xlim(-0.5, 2.5)\n",
    "ax.set_ylim(-2, 4)\n",
    "ax.arrow(0, 0, 2, -1, head_width=0.0, fc='g', ec='g', label='foo')\n",
    "ax.arrow(2, -1, -1, 2, head_width=0.1, fc='b', ec='b')\n",
    "ax.arrow(0, 0, 0, 3, head_width=0.1, fc='k', ec='k')"
   ]
  },
  {
   "cell_type": "markdown",
   "metadata": {},
   "source": [
    "Let's do a 3D example.\n",
    "\n",
    "$\n",
    "\\left\\{\n",
    "\\begin{aligned}\n",
    "2x - &y &= 0 \\\\ \n",
    "-x + 2&y - z &= -1 \\\\\n",
    "-3&y + 4z &= 4\n",
    "\\end{aligned}\n",
    "\\right.\n",
    "$\n",
    "\n",
    "We're in three dimensions with unknowns $x$, $y$ and $z$.\n",
    "\n",
    "The matrix $A$ is $\\begin{bmatrix}2 & -1 & 0\\\\-1 & 2 & -1\\\\0 & -3 & 4\\end{bmatrix}$\n",
    "\n",
    "And our right hand side $b$ is the vector $\\begin{bmatrix}0 \\\\ -1 \\\\ 4\\end{bmatrix}$\n",
    "\n",
    "Looking at the *row picture*, when dealing with a $2 \\times 2$ problem each row is a line in two dimensions. Each row in a $3 \\times 3$ problem gives us a plane in three dimensions.\n",
    "\n",
    "If we look at the *column picture* we get:\n",
    "\n",
    "$x\\begin{bmatrix}2\\\\-1\\\\0\\end{bmatrix} + y\\begin{bmatrix}-1\\\\2\\\\-3\\end{bmatrix} + z\\begin{bmatrix}0\\\\-1\\\\4\\end{bmatrix} = \\begin{bmatrix}0\\\\-1\\\\4\\end{bmatrix}$\n",
    "\n",
    "And we can already see that $x = 0$, $y = 0$ and $z = 1$. Of course we won't always be able to see it so easily though."
   ]
  },
  {
   "cell_type": "code",
   "execution_count": 100,
   "metadata": {
    "collapsed": false
   },
   "outputs": [
    {
     "data": {
      "text/plain": [
       "array([ 0, -1,  4])"
      ]
     },
     "execution_count": 100,
     "metadata": {},
     "output_type": "execute_result"
    }
   ],
   "source": [
    "vec3 = lambda x,y,z: np.array((x,y,z))\n",
    "A, B, C = vec3(2, -1, 0), vec3(-1, 2, -3), vec3(0, -1, 4)\n",
    "x, y, z = 0, 0, 1\n",
    "(x*A) + (y*B) + (z*C)"
   ]
  },
  {
   "cell_type": "markdown",
   "metadata": {},
   "source": [
    "Let's change the right hand side to something different so that we have:\n",
    "\n",
    "$x\\begin{bmatrix}2\\\\-1\\\\0\\end{bmatrix} + y\\begin{bmatrix}-1\\\\2\\\\-3\\end{bmatrix} + z\\begin{bmatrix}0\\\\-1\\\\4\\end{bmatrix} = \\begin{bmatrix}1\\\\1\\\\-3\\end{bmatrix}$\n",
    "\n",
    "In this case we made up $b$ by taking the sum of the first two columns of $A$:\n",
    "\n",
    "$b = \\begin{bmatrix}2\\\\-1\\\\0\\end{bmatrix} + \\begin{bmatrix}-1\\\\2\\\\-3\\end{bmatrix} = \\begin{bmatrix}1\\\\1\\\\-3\\end{bmatrix}$\n",
    "\n",
    "And $x = 1$, $y = 1$ and $z = 0$. Which makes sense since $b$ is the sum of the $x$ and $y$ components."
   ]
  },
  {
   "cell_type": "markdown",
   "metadata": {},
   "source": [
    "### matrix form\n",
    "Now we can ask the question, can we solve $Ax = b$ for every $b$? Do the linear combinations of the columns fill three (or $n$) dimensional space? It depends on $A$. In the case of matrix $A$ above yes, because it's a *nonsingular matrix* and *invertible matrix*.\n",
    "\n",
    "If all the vectors that make up $A$ are in the same plane we cannot compute $Ax = b$ for every $b$. We can compute $b$ for all the points that are in the plane but all those outside are unreachable. The matrix would be *singular* and **not** invertible.\n",
    "\n",
    "#### matrix times vector\n",
    "The basic equation we're dealing with is $Ax = b$ where $A$ is some kind of matrix that represents an operation and $V$ is a vector.\n",
    "\n",
    "We can multiply them as columns. This basically takes the components of vector $x$ as scalars for the column vectors in matrix $A$.\n",
    "\n",
    "$\\begin{bmatrix}2 & 5\\\\1 & 3\\end{bmatrix} + \\begin{bmatrix}1\\\\2\\end{bmatrix} = 1\\begin{bmatrix}2\\\\1\\end{bmatrix} + 2\\begin{bmatrix}5\\\\3\\end{bmatrix} = \\begin{bmatrix}12\\\\7\\end{bmatrix}$\n",
    "\n",
    "You can also do it by doing it a row at a time which is also known as the **dot product**:\n",
    "\n",
    "$\n",
    "\\begin{bmatrix}(2 \\cdot 1) + (5 \\cdot 2) \\\\(1 \\cdot 1) + (3 \\cdot 2)\\end{bmatrix} = \\begin{bmatrix}12\\\\7\\end{bmatrix}\n",
    "$\n",
    "\n",
    "We can also say that $Ax$ is a combination of vector $x$ and the columns of matrix $A$."
   ]
  },
  {
   "cell_type": "code",
   "execution_count": null,
   "metadata": {
    "collapsed": true
   },
   "outputs": [],
   "source": []
  }
 ],
 "metadata": {
  "kernelspec": {
   "display_name": "Python 3",
   "language": "python",
   "name": "python3"
  },
  "language_info": {
   "codemirror_mode": {
    "name": "ipython",
    "version": 3
   },
   "file_extension": ".py",
   "mimetype": "text/x-python",
   "name": "python",
   "nbconvert_exporter": "python",
   "pygments_lexer": "ipython3",
   "version": "3.5.1"
  }
 },
 "nbformat": 4,
 "nbformat_minor": 0
}
