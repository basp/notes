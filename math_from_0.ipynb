{
 "cells": [
  {
   "cell_type": "markdown",
   "metadata": {},
   "source": [
    "# math from zero\n",
    "Even though we start from zero we'll actually dive in some heavy stuff pretty quickly. I fear most of this will only make sense if you take an effort to research topics and lookup definitions when you feel you lost track of the text.\n",
    "\n",
    "On the other hand, a lot of material will be covered pretty quickly and if you've already seen (parts of) it you'll be able to follow along quite easily. However, if you're new to all this then things might be moving too fast. That's not good. This should be a reasonably gentle guide that serves two goals:\n",
    "\n",
    "1. lay some foundations by introducing basic concepts\n",
    "2. show how cool math is\n",
    "\n",
    "There will be some *interlude* sections that mostly reflect on how I like to think about things and how I deconstruct problems and/or think about them. In other words, they are pretty subjective. I will not make a huge effort to mathematically prove everything though. Feel free to prove me wrong.\n",
    "\n",
    "With that said, let's start at zero. Usually math doesn't start at zero but we'll do because, well I promised that in the title."
   ]
  },
  {
   "cell_type": "markdown",
   "metadata": {},
   "source": [
    "## zero\n",
    "In math, **zero** is actually a pretty hard concept and it took a *very* long time before we (as humans) felt comfortable working with it.\n",
    "\n",
    "Let's consider $1$ well that's pretty easy. If I have one of something I can just show the thing and yeah we can all see it's a single something. But what about zero? You might feel that this is an easy question. In case of zero we just have nothing. Simple.\n",
    "\n",
    "Well yeah. So far so good. If I have something $X$ and I have zero amount of it I have nothing so basically I have $0 \\times X = 0$ \n",
    "\n",
    "But it's not that simple though. Usually in math when I have something like the above we're talking about an *equation* and you can often *solve* it. In this case we have this thing $X$ and we wonder what values could $X$ have? Well apparently this thing says that if we have $0$ of $X$ we have $0$. \n",
    "\n",
    "Unfortunately this doesn't work. According to algebra we can say $X = \\frac{0}{0}$ which will never work because we're dividing by zero, it's undefined.\n",
    "\n",
    "As an aside, note that in this case, *a lot* of values of $X$ *will solve* this *equation*. We can easily say $0 \\times 2 = 0$ or even $0 \\times 0 = 0$ however we can never find out what $X$ is (well not so simply at least) by trying to *solve* it. \n",
    "\n",
    "It's hard to think about zero. We often calculate with a $0$ and there are no problems but sometimes when that zero pops up we can run into some problems. It's hard to visualize this because how can you visualize something that isn't?\n",
    "\n",
    "Well turns out we can do it anyway and this will probably help us to visualize more than three dimensions when we are done. How exactly we'll handle later but for now it's enough to know that we *can* do it. Zero will remain a bit of an outsider and it will sometimes require special operations as well as we'll see."
   ]
  },
  {
   "cell_type": "markdown",
   "metadata": {},
   "source": [
    "Now that we looked a bit at something that isn't, let's consider something that *are* and maybe we can find out what $0$ really means. We'll start with something really boring but quite essential and those are the basic *kinds* of **numbers** and the basic facts about them.\n",
    "\n",
    "Zero is a bit like the *cheese* of mathematics. It's a good neutralizer but you have to be careful in the context where you use it. \n",
    "\n"
   ]
  },
  {
   "cell_type": "markdown",
   "metadata": {},
   "source": [
    "## numbers\n",
    "Numbers are essential to math but what is a number? Of course we all know the **natural** numbers such as $1$, $2$ and $3$ but in math there's a whole range of different kinds of numbers. The question is then, why have so many kinds of numbers in the first place?\n",
    "\n",
    "Well there are multiple reasons but it's important to realize that we have these different kinds for a reason. It's not just because we want to complicate things, it just makes it easier to discuss certain problems if we can agree on the *set of valid numbers* and *the way they behave* when we do calculations with them.\n",
    "\n",
    "Let's start with the most basic class of numbers, the **natural** numbers.\n",
    "\n",
    "### natural numbers\n",
    "Usually this is the first kind of number we learn about when growing up. It's the numbers $1, 2, 3, 4, 5, 6, \\ldots$\n",
    "\n",
    "When we want to refer to this *set* of numbers we often use the symbol $\\mathbb{N}$. \n",
    "\n",
    "Note that zero, $0$, is not included in this set by default.\n",
    "\n",
    "### integers\n",
    "Wikipedia has a good definition:\n",
    "\n",
    "> The *set* of **integers** consists of zero ($0$) and the natural numbers ($1, 2, 3, \\ldots$) and their [additive inverses](https://en.wikipedia.org/wiki/Additive_inverse) (the **negative integers**, i.e. $-1, -2, -3, \\ldots$).\n",
    "\n",
    "Don't worry about *additive inverses* we don't need to know whta that means in detail. Just know that this includes all the numbers from the natural numbers set, the number zero and all the negatives of the natural numbers. \n",
    "\n",
    "These are basically the numbers you deal with when you go to school and it's one of the more useful sets to work with. For example, we love integers in computer programs because we can easily represent them with a sequence of bits (more on this later).\n",
    "\n",
    "When we want to refer to this set as a whole we can use the symbol $\\mathbb{Z}$.\n",
    "\n",
    "### rational numbers\n",
    "Again we turn to wikipedia, the definition is pretty usuable:\n",
    "\n",
    "> In mathematics, a rational number is any number that can be expressed as the quotient or fraction p/q of two integers, p and q, with the denominator, q, not equal to zero.\n",
    "\n",
    "We already know what integers are, we described them in the previous section. They are basically the numbers $\\ldots, -3, -2, -1, 0, 1, 2, 3, \\ldots$ going on infinitely in both directions (negative and positive).\n",
    "\n",
    "What the above definition tells us is that a **rational number** as a number is something like $\\frac{1}{3}$ where $p = 1$ and $q = 3$.\n",
    "\n",
    "The only caveat is that the value of $q$ cannot be zero otherwise we will have $\\frac{p}{0}$ and dividing by zero is (as of yet) undefined in math so we can never do that. It's fine to have a $0$ in the $p$ position though, we can easily have $\\frac{0}{3}$ for example, this is just $0$.\n",
    "\n",
    "Anyway, just remember you can never ever divide by $0$. For now, until mathematicians find a way to deal with it.\n",
    "\n",
    "The *divide by zero* problem will crop up more often though.\n",
    "\n",
    "We will refer to the set of valid rational numbers by the symbol $\\mathbb{Q}$ pretty often.\n",
    "\n",
    "### real numbers\n",
    "Again, we'll turn to wikipedia for our definition and then try to make sense of it:\n",
    "\n",
    "> In mathematics, a real number is a value that represents a quantity along a continuous line.\n",
    "\n",
    "This doesn't sound *too* bad but there are some problems with **real numbers** mainly that there's a lot of hand waving about them. Let's take for example a typical real representation of a number such as $\\pi$ which often boils down to $3.14159265\\ldots$.\n",
    "\n",
    "When people do this they tell us: \n",
    "\n",
    "> Yeah there's an infinite amount of digits and I know how to calculate them but I'm too lazy to write it down properly.\n",
    "\n",
    "We can never write down $\\pi$ like that. Nor can we ever represent it as an actual number. But luckily we have **rational numbers** and they can do the trick.\n",
    "\n",
    "The main point here is that your answer in pure math should *never ever* be a **real** number. Instead you should always express it as a **rational** number instead.\n",
    "\n",
    "Of course if you wanna do something useful with those numbers you will often have to express them as a real number at some point but when doing the math and calculations you should never ever use real numbers. They should only be used at the very last step if you need to translate that rational into something you can actually use in the real (no pun intended) world.\n",
    "\n",
    "Luckily there's a warning in wikipedia as well:\n",
    "\n",
    "> These descriptions of the real numbers are not sufficiently rigorous by the modern standards of pure mathematics. \n",
    "\n",
    "Which is just another way to say we should only value them as an approximation and not the absolute truth.\n",
    "\n",
    "If we ever need to refer to the real numbers space we'll use the symbol $\\mathbb{R}$."
   ]
  },
  {
   "cell_type": "markdown",
   "metadata": {},
   "source": [
    "### interlude: rational numbers\n",
    "Rationals are awesomely cool numbers. And the first thing to realize as a good mathematician is that rations are infintely better as real numbers. \n",
    "\n",
    "Ask a few people what the value of $\\frac{1}{3}$ is and you'll get a few different answers. Some people might be clever about it and find a real life equivalent and say:\n",
    "\n",
    "> Well, $\\frac{1}{3}$ is equal to $X$.\n",
    "\n",
    "Which is always valid of course as long as they can *prove* $\\frac{1}{3} = X$ but that's not really the point. A good few number of people will try to calculate it and give you some *approximation* of it like `0.33` or \"a zero with an infinite sequence of threes.\"\n",
    "\n",
    "The last one is somewhat correct but strictly speaking there is no more *rational* (pun intended) way to represent $\\frac{1}{3}$ than by, well, $\\frac{1}{3}$ and there's no other way around it.\n",
    "\n",
    "So when considering $x = \\frac{1}{3}$ we will resist the temptation to calculate $x$ as a real number and just say, for example, *one-third* or *one divided by three* instead.\n",
    "\n",
    "In other words, we like to stay in the set of rational numbers $\\mathbb{Q}$ (or better) for as long as possibly and only when we really have to we will resort to *approximating* to a number in the set of $\\mathbb{R}$.\n",
    "\n",
    "There's another thing that happens if we write numbers as rationals. We can observe that a number is not really a number anymore. Technically it still is a number but if you try to conceptualize it, it seems there's an extra step involved.\n",
    "\n",
    "On other words, a rational number consists of **two components** called the **numerator** $p$ and **denominator** $q$ in a rational number $\\frac{p}{q}$ where $q$ can never be zero.\n",
    "\n",
    "As an aside, we can also say that $0 \\lt q \\le n$ which literally means that $0$ is less than $q$ which is less than *or equal to* $n$ or we could just say $n \\in \\mathbb{N}$ which means that $n$ has to be in the set of natural numbers which is $1, 2, 3, \\ldots$ In other words, $q$ is greater zero and less than $n$ whatever $n$ might be. The $\\lt$ sign means *less than* and the $\\le$ sign means *less than or equal*.\n",
    "\n",
    "Note that math wouldn't be math if we also didn't have $\\gt$ and $\\ge$ which mean *greater than* and *greather than or equal* respectively.\n",
    "\n",
    "We can already see that by thinking about rational numbers we have some stuff to deal with."
   ]
  },
  {
   "cell_type": "markdown",
   "metadata": {},
   "source": [
    "## equations"
   ]
  },
  {
   "cell_type": "markdown",
   "metadata": {},
   "source": [
    "## calculus\n",
    "Before trying to explain what **calculus** is, let's look at what [wikipedia](https://en.wikipedia.org/wiki/Calculus) has to say about it.\n",
    "\n",
    "> Calculus is the mathematical study of change, in the same way that geometry is the study of shape and algebra is the study of operations and their application to solving equations.\n",
    "\n",
    "Well that definition is kinda useless as it expects us to know what [geometry](https://en.wikipedia.org/wiki/Geometry) and [algebra](https://en.wikipedia.org/wiki/Algebra) are in the first place. Typical for mathematicians to kind of *recursively* define things.\n",
    "\n",
    "So although it's probably correct, that definition is useless to us so let's just dive in and start with a basic example. Now, during this book we might hit upon **algebra** and/or **geometry** and maybe some other essential math but don't worry, you won't even notice it."
   ]
  }
 ],
 "metadata": {
  "kernelspec": {
   "display_name": "Python 3",
   "language": "python",
   "name": "python3"
  },
  "language_info": {
   "codemirror_mode": {
    "name": "ipython",
    "version": 3
   },
   "file_extension": ".py",
   "mimetype": "text/x-python",
   "name": "python",
   "nbconvert_exporter": "python",
   "pygments_lexer": "ipython3",
   "version": "3.5.1"
  }
 },
 "nbformat": 4,
 "nbformat_minor": 0
}
